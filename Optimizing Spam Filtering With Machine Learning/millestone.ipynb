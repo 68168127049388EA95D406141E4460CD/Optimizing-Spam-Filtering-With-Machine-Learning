{
  "cells": [
    {
      "cell_type": "code",
      "execution_count": 3,
      "metadata": {
        "id": "9_jDNAH2wMKn"
      },
      "outputs": [],
      "source": [
        "import numpy as np\n",
        "import pandas as pd\n",
        "import matplotlib.pyplot as plt \n",
        "from sklearn.model_selection import train_test_split \n",
        "import nltk \n",
        "from nltk.corpus import stopwords \n",
        "from nltk.stem.porter import PorterStemmer"
      ]
    },
    {
      "cell_type": "code",
      "execution_count": 4,
      "metadata": {
        "colab": {
          "base_uri": "https://localhost:8080/",
          "height": 206
        },
        "id": "QlpD27EhxFpj",
        "outputId": "813b3c9f-d719-4249-a580-22ce6e70b0f3"
      },
      "outputs": [
        {
          "output_type": "execute_result",
          "data": {
            "text/plain": [
              "     v1                                                 v2 Unnamed: 2  \\\n",
              "0   ham  Go until jurong point, crazy.. Available only ...        NaN   \n",
              "1   ham                      Ok lar... Joking wif u oni...        NaN   \n",
              "2  spam  Free entry in 2 a wkly comp to win FA Cup fina...        NaN   \n",
              "3   ham  U dun say so early hor... U c already then say...        NaN   \n",
              "4   ham  Nah I don't think he goes to usf, he lives aro...        NaN   \n",
              "\n",
              "  Unnamed: 3 Unnamed: 4  \n",
              "0        NaN        NaN  \n",
              "1        NaN        NaN  \n",
              "2        NaN        NaN  \n",
              "3        NaN        NaN  \n",
              "4        NaN        NaN  "
            ],
            "text/html": [
              "\n",
              "  <div id=\"df-e8fdb604-cc99-4d25-871c-1b00d0fd66f2\">\n",
              "    <div class=\"colab-df-container\">\n",
              "      <div>\n",
              "<style scoped>\n",
              "    .dataframe tbody tr th:only-of-type {\n",
              "        vertical-align: middle;\n",
              "    }\n",
              "\n",
              "    .dataframe tbody tr th {\n",
              "        vertical-align: top;\n",
              "    }\n",
              "\n",
              "    .dataframe thead th {\n",
              "        text-align: right;\n",
              "    }\n",
              "</style>\n",
              "<table border=\"1\" class=\"dataframe\">\n",
              "  <thead>\n",
              "    <tr style=\"text-align: right;\">\n",
              "      <th></th>\n",
              "      <th>v1</th>\n",
              "      <th>v2</th>\n",
              "      <th>Unnamed: 2</th>\n",
              "      <th>Unnamed: 3</th>\n",
              "      <th>Unnamed: 4</th>\n",
              "    </tr>\n",
              "  </thead>\n",
              "  <tbody>\n",
              "    <tr>\n",
              "      <th>0</th>\n",
              "      <td>ham</td>\n",
              "      <td>Go until jurong point, crazy.. Available only ...</td>\n",
              "      <td>NaN</td>\n",
              "      <td>NaN</td>\n",
              "      <td>NaN</td>\n",
              "    </tr>\n",
              "    <tr>\n",
              "      <th>1</th>\n",
              "      <td>ham</td>\n",
              "      <td>Ok lar... Joking wif u oni...</td>\n",
              "      <td>NaN</td>\n",
              "      <td>NaN</td>\n",
              "      <td>NaN</td>\n",
              "    </tr>\n",
              "    <tr>\n",
              "      <th>2</th>\n",
              "      <td>spam</td>\n",
              "      <td>Free entry in 2 a wkly comp to win FA Cup fina...</td>\n",
              "      <td>NaN</td>\n",
              "      <td>NaN</td>\n",
              "      <td>NaN</td>\n",
              "    </tr>\n",
              "    <tr>\n",
              "      <th>3</th>\n",
              "      <td>ham</td>\n",
              "      <td>U dun say so early hor... U c already then say...</td>\n",
              "      <td>NaN</td>\n",
              "      <td>NaN</td>\n",
              "      <td>NaN</td>\n",
              "    </tr>\n",
              "    <tr>\n",
              "      <th>4</th>\n",
              "      <td>ham</td>\n",
              "      <td>Nah I don't think he goes to usf, he lives aro...</td>\n",
              "      <td>NaN</td>\n",
              "      <td>NaN</td>\n",
              "      <td>NaN</td>\n",
              "    </tr>\n",
              "  </tbody>\n",
              "</table>\n",
              "</div>\n",
              "      <button class=\"colab-df-convert\" onclick=\"convertToInteractive('df-e8fdb604-cc99-4d25-871c-1b00d0fd66f2')\"\n",
              "              title=\"Convert this dataframe to an interactive table.\"\n",
              "              style=\"display:none;\">\n",
              "        \n",
              "  <svg xmlns=\"http://www.w3.org/2000/svg\" height=\"24px\"viewBox=\"0 0 24 24\"\n",
              "       width=\"24px\">\n",
              "    <path d=\"M0 0h24v24H0V0z\" fill=\"none\"/>\n",
              "    <path d=\"M18.56 5.44l.94 2.06.94-2.06 2.06-.94-2.06-.94-.94-2.06-.94 2.06-2.06.94zm-11 1L8.5 8.5l.94-2.06 2.06-.94-2.06-.94L8.5 2.5l-.94 2.06-2.06.94zm10 10l.94 2.06.94-2.06 2.06-.94-2.06-.94-.94-2.06-.94 2.06-2.06.94z\"/><path d=\"M17.41 7.96l-1.37-1.37c-.4-.4-.92-.59-1.43-.59-.52 0-1.04.2-1.43.59L10.3 9.45l-7.72 7.72c-.78.78-.78 2.05 0 2.83L4 21.41c.39.39.9.59 1.41.59.51 0 1.02-.2 1.41-.59l7.78-7.78 2.81-2.81c.8-.78.8-2.07 0-2.86zM5.41 20L4 18.59l7.72-7.72 1.47 1.35L5.41 20z\"/>\n",
              "  </svg>\n",
              "      </button>\n",
              "      \n",
              "  <style>\n",
              "    .colab-df-container {\n",
              "      display:flex;\n",
              "      flex-wrap:wrap;\n",
              "      gap: 12px;\n",
              "    }\n",
              "\n",
              "    .colab-df-convert {\n",
              "      background-color: #E8F0FE;\n",
              "      border: none;\n",
              "      border-radius: 50%;\n",
              "      cursor: pointer;\n",
              "      display: none;\n",
              "      fill: #1967D2;\n",
              "      height: 32px;\n",
              "      padding: 0 0 0 0;\n",
              "      width: 32px;\n",
              "    }\n",
              "\n",
              "    .colab-df-convert:hover {\n",
              "      background-color: #E2EBFA;\n",
              "      box-shadow: 0px 1px 2px rgba(60, 64, 67, 0.3), 0px 1px 3px 1px rgba(60, 64, 67, 0.15);\n",
              "      fill: #174EA6;\n",
              "    }\n",
              "\n",
              "    [theme=dark] .colab-df-convert {\n",
              "      background-color: #3B4455;\n",
              "      fill: #D2E3FC;\n",
              "    }\n",
              "\n",
              "    [theme=dark] .colab-df-convert:hover {\n",
              "      background-color: #434B5C;\n",
              "      box-shadow: 0px 1px 3px 1px rgba(0, 0, 0, 0.15);\n",
              "      filter: drop-shadow(0px 1px 2px rgba(0, 0, 0, 0.3));\n",
              "      fill: #FFFFFF;\n",
              "    }\n",
              "  </style>\n",
              "\n",
              "      <script>\n",
              "        const buttonEl =\n",
              "          document.querySelector('#df-e8fdb604-cc99-4d25-871c-1b00d0fd66f2 button.colab-df-convert');\n",
              "        buttonEl.style.display =\n",
              "          google.colab.kernel.accessAllowed ? 'block' : 'none';\n",
              "\n",
              "        async function convertToInteractive(key) {\n",
              "          const element = document.querySelector('#df-e8fdb604-cc99-4d25-871c-1b00d0fd66f2');\n",
              "          const dataTable =\n",
              "            await google.colab.kernel.invokeFunction('convertToInteractive',\n",
              "                                                     [key], {});\n",
              "          if (!dataTable) return;\n",
              "\n",
              "          const docLinkHtml = 'Like what you see? Visit the ' +\n",
              "            '<a target=\"_blank\" href=https://colab.research.google.com/notebooks/data_table.ipynb>data table notebook</a>'\n",
              "            + ' to learn more about interactive tables.';\n",
              "          element.innerHTML = '';\n",
              "          dataTable['output_type'] = 'display_data';\n",
              "          await google.colab.output.renderOutput(dataTable, element);\n",
              "          const docLink = document.createElement('div');\n",
              "          docLink.innerHTML = docLinkHtml;\n",
              "          element.appendChild(docLink);\n",
              "        }\n",
              "      </script>\n",
              "    </div>\n",
              "  </div>\n",
              "  "
            ]
          },
          "metadata": {},
          "execution_count": 4
        }
      ],
      "source": [
        "df = pd.read_csv(\"/content/spam.csv\",encoding=\"latin\")\n",
        "df.head()"
      ]
    },
    {
      "cell_type": "code",
      "execution_count": 5,
      "metadata": {
        "colab": {
          "base_uri": "https://localhost:8080/"
        },
        "id": "QwnZsfPjxyub",
        "outputId": "e53bd9ed-f0c7-4aa3-fee4-c05d1654dc8e"
      },
      "outputs": [
        {
          "output_type": "stream",
          "name": "stdout",
          "text": [
            "<class 'pandas.core.frame.DataFrame'>\n",
            "RangeIndex: 5572 entries, 0 to 5571\n",
            "Data columns (total 5 columns):\n",
            " #   Column      Non-Null Count  Dtype \n",
            "---  ------      --------------  ----- \n",
            " 0   v1          5572 non-null   object\n",
            " 1   v2          5572 non-null   object\n",
            " 2   Unnamed: 2  50 non-null     object\n",
            " 3   Unnamed: 3  12 non-null     object\n",
            " 4   Unnamed: 4  6 non-null      object\n",
            "dtypes: object(5)\n",
            "memory usage: 217.8+ KB\n"
          ]
        }
      ],
      "source": [
        "df.info()"
      ]
    },
    {
      "cell_type": "code",
      "execution_count": 6,
      "metadata": {
        "colab": {
          "base_uri": "https://localhost:8080/"
        },
        "id": "vysaLls_x8JS",
        "outputId": "d9877ef6-706e-4cb5-feef-cc43bd60914c"
      },
      "outputs": [
        {
          "output_type": "execute_result",
          "data": {
            "text/plain": [
              "v1               0\n",
              "v2               0\n",
              "Unnamed: 2    5522\n",
              "Unnamed: 3    5560\n",
              "Unnamed: 4    5566\n",
              "dtype: int64"
            ]
          },
          "metadata": {},
          "execution_count": 6
        }
      ],
      "source": [
        "df.isna().sum()"
      ]
    },
    {
      "cell_type": "code",
      "execution_count": 7,
      "metadata": {
        "id": "F1UhV9iVyEQK"
      },
      "outputs": [],
      "source": [
        "df.rename({\"v1\":\"label\",\"v2\":\"text\"},inplace=True,axis=1)"
      ]
    },
    {
      "cell_type": "code",
      "execution_count": 8,
      "metadata": {
        "colab": {
          "base_uri": "https://localhost:8080/",
          "height": 206
        },
        "id": "aZ4MCuluycrG",
        "outputId": "71644419-1703-433a-a9da-ab84fc2c0fc7"
      },
      "outputs": [
        {
          "output_type": "execute_result",
          "data": {
            "text/plain": [
              "     label                                               text Unnamed: 2  \\\n",
              "5567  spam  This is the 2nd time we have tried 2 contact u...        NaN   \n",
              "5568   ham              Will Ì_ b going to esplanade fr home?        NaN   \n",
              "5569   ham  Pity, * was in mood for that. So...any other s...        NaN   \n",
              "5570   ham  The guy did some bitching but I acted like i'd...        NaN   \n",
              "5571   ham                         Rofl. Its true to its name        NaN   \n",
              "\n",
              "     Unnamed: 3 Unnamed: 4  \n",
              "5567        NaN        NaN  \n",
              "5568        NaN        NaN  \n",
              "5569        NaN        NaN  \n",
              "5570        NaN        NaN  \n",
              "5571        NaN        NaN  "
            ],
            "text/html": [
              "\n",
              "  <div id=\"df-15844d37-3f59-4adc-b8d1-455b0e0da714\">\n",
              "    <div class=\"colab-df-container\">\n",
              "      <div>\n",
              "<style scoped>\n",
              "    .dataframe tbody tr th:only-of-type {\n",
              "        vertical-align: middle;\n",
              "    }\n",
              "\n",
              "    .dataframe tbody tr th {\n",
              "        vertical-align: top;\n",
              "    }\n",
              "\n",
              "    .dataframe thead th {\n",
              "        text-align: right;\n",
              "    }\n",
              "</style>\n",
              "<table border=\"1\" class=\"dataframe\">\n",
              "  <thead>\n",
              "    <tr style=\"text-align: right;\">\n",
              "      <th></th>\n",
              "      <th>label</th>\n",
              "      <th>text</th>\n",
              "      <th>Unnamed: 2</th>\n",
              "      <th>Unnamed: 3</th>\n",
              "      <th>Unnamed: 4</th>\n",
              "    </tr>\n",
              "  </thead>\n",
              "  <tbody>\n",
              "    <tr>\n",
              "      <th>5567</th>\n",
              "      <td>spam</td>\n",
              "      <td>This is the 2nd time we have tried 2 contact u...</td>\n",
              "      <td>NaN</td>\n",
              "      <td>NaN</td>\n",
              "      <td>NaN</td>\n",
              "    </tr>\n",
              "    <tr>\n",
              "      <th>5568</th>\n",
              "      <td>ham</td>\n",
              "      <td>Will Ì_ b going to esplanade fr home?</td>\n",
              "      <td>NaN</td>\n",
              "      <td>NaN</td>\n",
              "      <td>NaN</td>\n",
              "    </tr>\n",
              "    <tr>\n",
              "      <th>5569</th>\n",
              "      <td>ham</td>\n",
              "      <td>Pity, * was in mood for that. So...any other s...</td>\n",
              "      <td>NaN</td>\n",
              "      <td>NaN</td>\n",
              "      <td>NaN</td>\n",
              "    </tr>\n",
              "    <tr>\n",
              "      <th>5570</th>\n",
              "      <td>ham</td>\n",
              "      <td>The guy did some bitching but I acted like i'd...</td>\n",
              "      <td>NaN</td>\n",
              "      <td>NaN</td>\n",
              "      <td>NaN</td>\n",
              "    </tr>\n",
              "    <tr>\n",
              "      <th>5571</th>\n",
              "      <td>ham</td>\n",
              "      <td>Rofl. Its true to its name</td>\n",
              "      <td>NaN</td>\n",
              "      <td>NaN</td>\n",
              "      <td>NaN</td>\n",
              "    </tr>\n",
              "  </tbody>\n",
              "</table>\n",
              "</div>\n",
              "      <button class=\"colab-df-convert\" onclick=\"convertToInteractive('df-15844d37-3f59-4adc-b8d1-455b0e0da714')\"\n",
              "              title=\"Convert this dataframe to an interactive table.\"\n",
              "              style=\"display:none;\">\n",
              "        \n",
              "  <svg xmlns=\"http://www.w3.org/2000/svg\" height=\"24px\"viewBox=\"0 0 24 24\"\n",
              "       width=\"24px\">\n",
              "    <path d=\"M0 0h24v24H0V0z\" fill=\"none\"/>\n",
              "    <path d=\"M18.56 5.44l.94 2.06.94-2.06 2.06-.94-2.06-.94-.94-2.06-.94 2.06-2.06.94zm-11 1L8.5 8.5l.94-2.06 2.06-.94-2.06-.94L8.5 2.5l-.94 2.06-2.06.94zm10 10l.94 2.06.94-2.06 2.06-.94-2.06-.94-.94-2.06-.94 2.06-2.06.94z\"/><path d=\"M17.41 7.96l-1.37-1.37c-.4-.4-.92-.59-1.43-.59-.52 0-1.04.2-1.43.59L10.3 9.45l-7.72 7.72c-.78.78-.78 2.05 0 2.83L4 21.41c.39.39.9.59 1.41.59.51 0 1.02-.2 1.41-.59l7.78-7.78 2.81-2.81c.8-.78.8-2.07 0-2.86zM5.41 20L4 18.59l7.72-7.72 1.47 1.35L5.41 20z\"/>\n",
              "  </svg>\n",
              "      </button>\n",
              "      \n",
              "  <style>\n",
              "    .colab-df-container {\n",
              "      display:flex;\n",
              "      flex-wrap:wrap;\n",
              "      gap: 12px;\n",
              "    }\n",
              "\n",
              "    .colab-df-convert {\n",
              "      background-color: #E8F0FE;\n",
              "      border: none;\n",
              "      border-radius: 50%;\n",
              "      cursor: pointer;\n",
              "      display: none;\n",
              "      fill: #1967D2;\n",
              "      height: 32px;\n",
              "      padding: 0 0 0 0;\n",
              "      width: 32px;\n",
              "    }\n",
              "\n",
              "    .colab-df-convert:hover {\n",
              "      background-color: #E2EBFA;\n",
              "      box-shadow: 0px 1px 2px rgba(60, 64, 67, 0.3), 0px 1px 3px 1px rgba(60, 64, 67, 0.15);\n",
              "      fill: #174EA6;\n",
              "    }\n",
              "\n",
              "    [theme=dark] .colab-df-convert {\n",
              "      background-color: #3B4455;\n",
              "      fill: #D2E3FC;\n",
              "    }\n",
              "\n",
              "    [theme=dark] .colab-df-convert:hover {\n",
              "      background-color: #434B5C;\n",
              "      box-shadow: 0px 1px 3px 1px rgba(0, 0, 0, 0.15);\n",
              "      filter: drop-shadow(0px 1px 2px rgba(0, 0, 0, 0.3));\n",
              "      fill: #FFFFFF;\n",
              "    }\n",
              "  </style>\n",
              "\n",
              "      <script>\n",
              "        const buttonEl =\n",
              "          document.querySelector('#df-15844d37-3f59-4adc-b8d1-455b0e0da714 button.colab-df-convert');\n",
              "        buttonEl.style.display =\n",
              "          google.colab.kernel.accessAllowed ? 'block' : 'none';\n",
              "\n",
              "        async function convertToInteractive(key) {\n",
              "          const element = document.querySelector('#df-15844d37-3f59-4adc-b8d1-455b0e0da714');\n",
              "          const dataTable =\n",
              "            await google.colab.kernel.invokeFunction('convertToInteractive',\n",
              "                                                     [key], {});\n",
              "          if (!dataTable) return;\n",
              "\n",
              "          const docLinkHtml = 'Like what you see? Visit the ' +\n",
              "            '<a target=\"_blank\" href=https://colab.research.google.com/notebooks/data_table.ipynb>data table notebook</a>'\n",
              "            + ' to learn more about interactive tables.';\n",
              "          element.innerHTML = '';\n",
              "          dataTable['output_type'] = 'display_data';\n",
              "          await google.colab.output.renderOutput(dataTable, element);\n",
              "          const docLink = document.createElement('div');\n",
              "          docLink.innerHTML = docLinkHtml;\n",
              "          element.appendChild(docLink);\n",
              "        }\n",
              "      </script>\n",
              "    </div>\n",
              "  </div>\n",
              "  "
            ]
          },
          "metadata": {},
          "execution_count": 8
        }
      ],
      "source": [
        "df.tail()"
      ]
    },
    {
      "cell_type": "code",
      "execution_count": 9,
      "metadata": {
        "id": "CS8TAAaByjSh"
      },
      "outputs": [],
      "source": [
        "from sklearn.preprocessing import LabelEncoder\n",
        "le = LabelEncoder()\n",
        "df['label'] = le.fit_transform(df['label'])"
      ]
    },
    {
      "cell_type": "code",
      "execution_count": 10,
      "metadata": {
        "colab": {
          "base_uri": "https://localhost:8080/"
        },
        "id": "lTagL5olhtS2",
        "outputId": "2b28865b-a9db-46b6-f57a-6ca48df9ee5a"
      },
      "outputs": [
        {
          "output_type": "stream",
          "name": "stderr",
          "text": [
            "[nltk_data] Downloading package stopwords to /root/nltk_data...\n",
            "[nltk_data]   Unzipping corpora/stopwords.zip.\n"
          ]
        },
        {
          "output_type": "execute_result",
          "data": {
            "text/plain": [
              "True"
            ]
          },
          "metadata": {},
          "execution_count": 10
        }
      ],
      "source": [
        "nltk.download(\"stopwords\")"
      ]
    },
    {
      "cell_type": "code",
      "execution_count": 11,
      "metadata": {
        "id": "F1z1Mphmh3Qb"
      },
      "outputs": [],
      "source": [
        "import nltk\n",
        "from nltk.corpus import stopwords\n",
        "from nltk.stem import PorterStemmer\n"
      ]
    },
    {
      "cell_type": "code",
      "execution_count": 12,
      "metadata": {
        "id": "GUSjeKwUiIb3"
      },
      "outputs": [],
      "source": [
        "import re\n",
        "corpus = []\n",
        "length = len(df)"
      ]
    },
    {
      "cell_type": "code",
      "execution_count": 13,
      "metadata": {
        "id": "FjNa08O7iVq8"
      },
      "outputs": [],
      "source": [
        "for i in range(0,length):\n",
        "  text = re.sub(\"^a-Za-Z0-9]\",\" \" ,df[\"text\"][i])\n",
        "  text = text.lower()\n",
        "  text = text.split()\n",
        "  pe = PorterStemmer()\n",
        "  stopword = stopwords.words(\"english\")\n",
        "  text = [pe.stem(word) for word in text if not word in set(stopword)]\n",
        "  text = \" \".join(text)\n",
        "  corpus.append(text)"
      ]
    },
    {
      "cell_type": "code",
      "execution_count": 14,
      "metadata": {
        "colab": {
          "base_uri": "https://localhost:8080/"
        },
        "id": "pGaCAEfqjeWh",
        "outputId": "e1ad7e50-9787-43d3-b583-59edeb18d980"
      },
      "outputs": [
        {
          "output_type": "execute_result",
          "data": {
            "text/plain": [
              "['go jurong point, crazy.. avail bugi n great world la e buffet... cine got amor wat...',\n",
              " 'ok lar... joke wif u oni...',\n",
              " \"free entri 2 wkli comp win fa cup final tkt 21st may 2005. text fa 87121 receiv entri question(std txt rate)t&c' appli 08452810075over18'\",\n",
              " 'u dun say earli hor... u c alreadi say...',\n",
              " 'nah think goe usf, live around though',\n",
              " \"freemsg hey darl 3 week' word back! i'd like fun still? tb ok! xxx std chg send, å£1.50 rcv\",\n",
              " 'even brother like speak me. treat like aid patent.',\n",
              " \"per request 'mell mell (oru minnaminungint nurungu vettam)' set callertun callers. press *9 copi friend callertun\",\n",
              " 'winner!! valu network custom select receivea å£900 prize reward! claim call 09061701461. claim code kl341. valid 12 hour only.',\n",
              " 'mobil 11 month more? u r entitl updat latest colour mobil camera free! call mobil updat co free 08002986030',\n",
              " \"i'm gonna home soon want talk stuff anymor tonight, k? i'v cri enough today.\",\n",
              " 'six chanc win cash! 100 20,000 pound txt> csh11 send 87575. cost 150p/day, 6days, 16+ tsandc appli repli hl 4 info',\n",
              " 'urgent! 1 week free membership å£100,000 prize jackpot! txt word: claim no: 81010 t&c www.dbuk.net lccltd pobox 4403ldnw1a7rw18',\n",
              " \"i'v search right word thank breather. promis wont take help grant fulfil promise. wonder bless times.\",\n",
              " 'date sunday will!!',\n",
              " 'xxxmobilemovieclub: use credit, click wap link next txt messag click here>> http://wap. xxxmobilemovieclub.com?n=qjkgighjjgcbl',\n",
              " \"oh k...i'm watch here:)\",\n",
              " 'eh u rememb 2 spell name... ye did. v naughti make v wet.',\n",
              " 'fine thatåõ way u feel. thatåõ way gota b',\n",
              " 'england v macedonia - dont miss goals/team news. txt ur nation team 87077 eg england 87077 try:wales, scotland 4txt/ì¼1.20 poboxox36504w45wq 16+',\n",
              " 'serious spell name?',\n",
              " 'i\\x89û÷m go tri 2 month ha ha joke',\n",
              " 'ì_ pay first lar... da stock comin...',\n",
              " 'aft finish lunch go str lor. ard 3 smth lor. u finish ur lunch already?',\n",
              " 'ffffffffff. alright way meet sooner?',\n",
              " \"forc eat slice. i'm realli hungri tho. sucks. mark get worried. know i'm sick turn pizza. lol\",\n",
              " 'lol alway convincing.',\n",
              " \"catch bu ? fri egg ? make tea? eat mom' left dinner ? feel love ?\",\n",
              " \"i'm back &amp; we'r pack car now, i'll let know there' room\",\n",
              " 'ahhh. work. vagu rememb that! feel like? lol',\n",
              " \"wait that' still clear, sure sarcast that' x want live us\",\n",
              " 'yeah got 2 v apologetic. n fallen actin like spoilt child got caught that. till 2! go there! badli cheers. you?',\n",
              " 'k tell anyth you.',\n",
              " 'fear faint housework did? quick cuppa',\n",
              " 'thank subscript rington uk mobil charg å£5/month pleas confirm repli ye no. repli charg',\n",
              " 'yup... ok go home look time msg ì_ again... xuhui go learn 2nd may lesson 8am',\n",
              " \"oops, i'll let know roommate' done\",\n",
              " 'see letter b car',\n",
              " 'anyth lor... u decide...',\n",
              " \"hello! how' saturday go? text see decid anyth tomo. i'm tri invit anything!\",\n",
              " 'pl go ahead watts. want sure. great weekend. abiola',\n",
              " 'forget tell ? want , need you, crave ... ... love sweet arabian steed ... mmmmmm ... yummi',\n",
              " '07732584351 - rodger burn - msg = tri call repli sm free nokia mobil + free camcorder. pleas call 08000930705 deliveri tomorrow',\n",
              " 'seeing?',\n",
              " 'great! hope like man well endowed. &lt;#&gt; inches...',\n",
              " 'calls..messages..miss call',\n",
              " 'get hep b immunis nigeria.',\n",
              " 'fair enough, anyth go on?',\n",
              " \"yeah hopefully, tyler can't could mayb ask around bit\",\n",
              " \"u know stubborn am. even want go hospital. kept tell mark i'm weak sucker. hospit weak suckers.\",\n",
              " 'think me. first time saw class.',\n",
              " 'gram usual run like &lt;#&gt; , half eighth smarter though get almost whole second gram &lt;#&gt;',\n",
              " \"k fyi x ride earli tomorrow morn he' crash place tonight\",\n",
              " 'wow. never realiz embarass accomodations. thought like it, sinc best could alway seem happi \\\\the cave\\\\\". i\\'m sorri give. i\\'m sorri offered. i\\'m sorri room embarassing.\"',\n",
              " 'sms. ac sptv: new jersey devil detroit red wing play ice hockey. correct incorrect? end? repli end sptv',\n",
              " 'know mallika sherawat yesterday? find @ &lt;url&gt;',\n",
              " 'congrats! 1 year special cinema pass 2 yours. call 09061209465 now! c suprman v, matrix3, starwars3, etc 4 free! bx420-ip4-5we. 150pm. dont miss out!',\n",
              " \"sorry, i'll call later meeting.\",\n",
              " 'tell reach',\n",
              " 'yes..gauti sehwag odi series.',\n",
              " \"gonna pick $1 burger way home. can't even move. pain kill me.\",\n",
              " 'ha ha ha good joke. girl situat seekers.',\n",
              " 'part check iq',\n",
              " 'sorri roommat took forever, ok come now?',\n",
              " 'ok lar doubl check wif da hair dresser alreadi said wun cut v short. said cut look nice.',\n",
              " 'valu customer, pleas advis follow recent review mob no. award å£1500 bonu prize, call 09066364589',\n",
              " 'today \\\\song dedic day..\\\\\" song u dedic me? send ur valuabl frnd first rpli me...\"',\n",
              " 'urgent ur award complimentari trip eurodisinc trav, aco&entry41 å£1000. claim txt di 87121 18+6*å£1.50(morefrmmob. shracomorsglsuplt)10, ls1 3aj',\n",
              " 'hear new \\\\divorc barbie\\\\\"? come ken\\' stuff!\"',\n",
              " 'plane give month end.',\n",
              " 'wah lucki man... save money... hee...',\n",
              " 'finish class you.',\n",
              " 'hi babe im home wanna something? xx',\n",
              " 'k..k:)where you?how performed?',\n",
              " 'u call now...',\n",
              " 'wait machan. call free.',\n",
              " 'that cool. gentleman treat digniti respect.',\n",
              " 'like peopl much:) shi pa.',\n",
              " 'oper &lt;#&gt;',\n",
              " \"here. still look job. much ta' earn there.\",\n",
              " \"sorry, i'll call later\",\n",
              " 'k. call ah?',\n",
              " 'ok way home hi hi',\n",
              " 'place man',\n",
              " 'yup next stop.',\n",
              " 'call later, network. urgnt, sm me.',\n",
              " \"real u get yo? need 2 ticket one jacket i'm done. alreadi use multis.\",\n",
              " \"ye start send request make pain came back i'm back bed. doubl coin factori too. gotta cash nitros.\",\n",
              " \"i'm realli still tonight babe\",\n",
              " 'ela kano.,il download, come wen ur free..',\n",
              " 'yeah do! don\\x89û÷t stand close tho- you\\x89û÷ll catch something!',\n",
              " 'sorri pain. ok meet anoth night? spent late afternoon casualti mean done stuff42moro includ time sheet that. sorry.',\n",
              " 'smile pleasur smile pain smile troubl pour like rain smile sum1 hurt u smile becoz someon still love see u smiling!!',\n",
              " 'pleas call custom servic repres 0800 169 6031 10am-9pm guarante å£1000 cash å£5000 prize!',\n",
              " 'havent plan buy later. check alreadi lido got 530 show e afternoon. u finish work already?',\n",
              " 'free rington wait collected. simpli text password \\\\mix\\\\\" 85069 verify. get usher britney. fml',\n",
              " 'watch telugu movie..wat abt u?',\n",
              " 'see. finish load loan pay',\n",
              " 'hi. wk ok - hol now! ye bit run. forgot hairdress appoint four need get home n shower beforehand. caus prob u?\\\\\" ham\"',\n",
              " 'pleas text anymore. noth els say.',\n",
              " 'okay name ur price long legal! wen pick up? u ave x am xx',\n",
              " \"i'm still look car buy. gone 4the drive test yet.\",\n",
              " \"per request 'mell mell (oru minnaminungint nurungu vettam)' set callertun callers. press *9 copi friend callertun\",\n",
              " 'wow. right! mean that. guess gave boston men chang search locat nyc, someth changed. cuz signin page still say boston.',\n",
              " 'umma life vava umma love lot dear',\n",
              " 'thank lot wish birthday. thank make birthday truli memorable.',\n",
              " \"aight, i'll hit get cash\",\n",
              " 'would ip address test consid comput minecraft server',\n",
              " 'know! grumpi old people. mom like better lying. alway one play jokes...',\n",
              " \"dont worry. guess he' busy.\",\n",
              " 'plural noun research?',\n",
              " 'go dinner.msg after.',\n",
              " \"i'm ok wif co like 2 tri new things. scare u dun like mah. co u said loud.\",\n",
              " 'gent! tri contact you. last weekend draw show å£1000 prize guaranteed. call 09064012160. claim code k52. valid 12hr only. 150ppm',\n",
              " \"wa, ur openin sentenc formal... anyway, i'm fine too, juz tt i'm eatin much n puttin weight...haha... anythin special happened?\",\n",
              " \"enter cabin pa said, '' happi b'day boss !!''. felt special. askd 4 lunch. lunch invit apartment. went there.\",\n",
              " 'winner u special select 2 receiv å£1000 4* holiday (flight inc) speak live oper 2 claim 0871277810910p/min (18+)',\n",
              " 'goodo! ye must speak friday - egg-potato ratio tortilla needed!',\n",
              " \"hmm...mi uncl inform he' pay school directly. pl buy food.\",\n",
              " 'private! 2004 account statement 07742676969 show 786 unredeem bonu points. claim call 08719180248 identifi code: 45239 expir',\n",
              " 'urgent! mobil no. award å£2000 bonu caller prize 5/9/03 final tri contact u! call landlin 09064019788 box42wr29c, 150ppm',\n",
              " 'new address -apples&pairs&al malarki',\n",
              " 'today voda number end 7548 select receiv $350 award. match pleas call 08712300220 quot claim code 4041 standard rate app',\n",
              " 'go sao mu today. done 12',\n",
              " \"ìï predict wat time ì_'ll finish buying?\",\n",
              " 'good stuff, do.',\n",
              " 'know,yetund sent money yet. sent text bother sending. over, dont involv anything. impos anyth first place that, apologise.',\n",
              " 'room.',\n",
              " 'hey girl. r u? hope u r well del r bak! long time c! give call sum time lucyxx',\n",
              " 'k..k:)how much cost?',\n",
              " \"i'm home.\",\n",
              " 'dear, call tmorrow.pl accomodate.',\n",
              " 'first answer question.',\n",
              " 'sunshin quiz wkli q! win top soni dvd player u know countri algarv in? txt ansr 82277. å£1.50 sp:tyron',\n",
              " \"want 2 get laid tonight? want real dog locat sent direct 2 ur mob? join uk' largest dog network bt txting gravel 69888! nt. ec2a. 31p.msg@150p\",\n",
              " 'haf msn. yijue@hotmail.com',\n",
              " 'there. call meet',\n",
              " 'no. check room befor activ',\n",
              " 'rcv msg chat svc. free hardcor servic text go to: 69988 u get noth u must age verifi yr network & tri',\n",
              " 'got c... lazi type... forgot ì_ lect... saw pouch like v nice...',\n",
              " 'k, text way',\n",
              " 'sir, wait mail.',\n",
              " 'swt thought: \\\\nver get tire littl thing 4 lovabl persons..\\\\\" coz..somtim littl thing occupi biggest part hearts.. gud ni8\"',\n",
              " 'know are. pl open back?',\n",
              " 'ye see ya dot',\n",
              " 'what staff name take class us?',\n",
              " \"freemsg repli text? i'm randy, sexy, femal live local. luv hear u. netcollex ltd 08700621170150p per msg repli stop end\",\n",
              " 'ummma.wil call check in.our life begin qatar pl pray hard.',\n",
              " 'k..i delet contact why?',\n",
              " 'sindu got job birla soft ..',\n",
              " \"wine flow i'm nevering..\",\n",
              " 'yup thk cine better co need 2 go 2 plaza mah.',\n",
              " 'ok... ur typic reply...',\n",
              " \"per request 'mell mell (oru minnaminungint nurungu vettam)' set callertun callers. press *9 copi friend callertun\",\n",
              " 'everywher dirt, floor, windows, even shirt. sometim open mouth, come flow out. dream world without you, half chore too. time joy me, lot tv show i.ll see. guess like thing must exist, like rain, hail mist, time done, becom one.',\n",
              " 'aaooooright work?',\n",
              " \"i'm leav hous now...\",\n",
              " 'hello, love. doing? get interview today? happy? good boy? think me?ar miss ?',\n",
              " 'custom servic annoncement. new year deliveri wait you. pleas call 07046744435 arrang deliveri',\n",
              " 'winner u special select 2 receiv å£1000 cash 4* holiday (flight inc) speak live oper 2 claim 0871277810810',\n",
              " \"keep safe need miss alreadi envi everyon see' real life\",\n",
              " 'new car hous parents.:)i new job hand:)',\n",
              " \"i'm love you. i'm excit day spend you. make happy.\",\n",
              " '-pl stop bootydeli (32/f) invit friend. repli yes-434 no-434 see her: www.sms.ac/u/bootydeli stop? send stop frnd 62468',\n",
              " 'bangbab ur order way. u receiv servic msg 2 download ur content. u not, goto wap. bangb. tv ur mobil internet/servic menu',\n",
              " 'place ur point e cultur modul already.',\n",
              " 'urgent! tri contact you. last weekend draw show å£900 prize guaranteed. call 09061701939. claim code s89. valid 12hr',\n",
              " \"hi frnd, best way avoid missunderstd wit belov one's?\",\n",
              " 'great escape. fanci bridg need lager. see tomo',\n",
              " 'ye :)it complet form:)clark also utter waste.',\n",
              " 'sir, need axi bank account bank address.',\n",
              " 'hmmm.. thk sure got time hop ard... ya, go 4 free abt... muz call u discuss liao...',\n",
              " 'time come later?',\n",
              " 'bloodi hell, cant believ forgot surnam mr . ill give u clue, spanish begin m...',\n",
              " \"well, i'm gonna finish bath now. good...fin night.\",\n",
              " 'let know got money carlo make call',\n",
              " 'u still go mall?',\n",
              " 'turn friend stay whole show back til ~ &lt;#&gt; , feel free go ahead smoke $ &lt;#&gt; worth',\n",
              " 'text her. doesnt repli let know log',\n",
              " \"hi! spoke maneesha v. we'd like know satisfi experience. repli toll free ye no.\",\n",
              " 'lift hope offer money. need. especi end month approach hurt studying. anyway gr8 weekend',\n",
              " 'lol no. u trust me.',\n",
              " 'ok. gentleman treat digniti respect.',\n",
              " 'will, guy close?',\n",
              " 'go noth great.by',\n",
              " \"hello handsom ! find job ? lazi ? work toward get back net mummi ? where' boytoy ? miss ?\",\n",
              " 'haha awesome, minut',\n",
              " 'pleas call custom servic repres freephon 0808 145 4742 9am-11pm guarante å£1000 cash å£5000 prize!',\n",
              " 'got xma radio times. get',\n",
              " 'ju reach home. go bath first. si use net tell u finish k...',\n",
              " 'uniqu enough? find 30th august. www.areyouunique.co.uk',\n",
              " \"i'm sorry. i'v join leagu peopl dont keep touch. mean great deal me. friend time even great person cost. great week.|\",\n",
              " 'hi :)final complet course:)',\n",
              " 'stop itself. howev suggest stay someon abl give or everi stool.',\n",
              " 'doing? hope settl new school year. wishin gr8 day',\n",
              " 'gud mrng dear hav nice day',\n",
              " 'u got person stori',\n",
              " 'hamster dead? hey tmr meet 1pm orchard mrt?',\n",
              " 'hi kate evening? hope see tomorrow bit bloodi babyjontet! txt back u can. :) xxx',\n",
              " 'found it, enc &lt;#&gt; , at?',\n",
              " 'sent &lt;#&gt; buck',\n",
              " 'hello darlin ive finish colleg txt u finish u love kate xxx',\n",
              " 'account refil success inr &lt;decimal&gt; . keralacircl prepaid account balanc rs &lt;decimal&gt; . transact id kr &lt;#&gt; .',\n",
              " 'goodmorn sleep ga.',\n",
              " 'u call alter 11 ok.',\n",
              " 'ìï say like dat dun buy ericsson oso cannot oredi lar...',\n",
              " \"enter cabin pa said, '' happi b'day boss !!''. felt special. askd 4 lunch. lunch invit apartment. went there.\",\n",
              " 'aight yo, dat straight dogg',\n",
              " 'pleas give us connect today &lt;decimal&gt; refund bill',\n",
              " ':) shoot big load get ready!',\n",
              " \"what' bruv, hope great break. reward semester.\",\n",
              " 'home alway chat',\n",
              " 'k:)k:)good:)studi well.',\n",
              " 'yup... ì_ noe leh...',\n",
              " 'sound great! home now?',\n",
              " 'final match head toward draw prediction.',\n",
              " 'tired. slept well past nights.',\n",
              " 'easi ah?sen got select mean good..',\n",
              " 'take exam march 3',\n",
              " \"yeah should. think use gt atm register. sure there' anyway help let know. sure ready.\",\n",
              " 'ok prob. take ur time.',\n",
              " 'os call ubandu run without instal hard disk...you use os copi import file system give repair shop..',\n",
              " \"sorry, i'll call later\",\n",
              " 'u say leh... cours noth happen lar. say v romant ju bit lor. thk e nite sceneri nice leh.',\n",
              " '500 new mobil 2004, must go! txt: nokia no: 89545 & collect today!from å£1 www.4-tc.biz 2optout 087187262701.50gbp/mtmsg18',\n",
              " 'would realli appreci call me. need someon talk to.',\n",
              " 'u meet ur dream partner soon? ur career 2 flyng start? 2 find free, txt horo follow ur star sign, e. g. horo ari',\n",
              " 'hey compani elama po mudyadhu.',\n",
              " 'life strict teacher... bcoz teacher teach lesson &amp; conduct exam, life first conduct exam &amp; teach lessons. happi morning. . .',\n",
              " 'dear good morn',\n",
              " 'get gandhipuram walk cross cut road. right side &lt;#&gt; street road turn first right.',\n",
              " 'dear go rubber place',\n",
              " \"sorri batteri died, yeah i'm\",\n",
              " 'yes:)her tv alway avail work place..',\n",
              " 'text & meet someon sexi today. u find date even flirt u. join 4 10p. repli name & age eg sam 25. 18 -msg recd@thirtyeight penc',\n",
              " 'print oh. &lt;#&gt; come upstair',\n",
              " 'ill littl closer like bu stop street',\n",
              " 'you?when wil reach here?',\n",
              " \"new theory: argument win situation, lose person. dont argu ur friend just.. . . . kick &amp; say, i'm alway correct.!\",\n",
              " 'u 447801259231 secret admir look 2 make contact u-find r*reveal think ur special-cal 09058094597',\n",
              " 'tomarrow final hear laptop case cant.',\n",
              " 'pleassssssseeeee tel v avent done sportsx',\n",
              " 'okay. no, shine on. meant signing, sound better.',\n",
              " \"although told u dat i'm baig face watch realli like e watch u gave co fr u. thanx 4 everyth dat u'v done today, i'm touched...\",\n",
              " 'u rememb old commercial?',\n",
              " 'late. said website. dont slipper',\n",
              " 'ask call ok',\n",
              " 'kalli wont bat 2nd innings.',\n",
              " 'didnt work oh. ok goodnight then. i.ll fix readi time wake up. dearli miss good night sleep.',\n",
              " 'congratul ur award 500 cd voucher 125gift guarante & free entri 2 100 wkli draw txt music 87066 tnc www.ldew.com1win150ppmx3age16',\n",
              " 'ranjith cal drpd deeraj deepak 5min hold',\n",
              " 'wen ur lovabl bcum angri wid u, dnt take seriously.. coz angri childish n true way show deep affection, care n luv!.. kettoda manda... nice day da.',\n",
              " 'doing?how you?',\n",
              " 'up 3day also, ship compani take 2wks. way usp take week get lag may bribe nipost get stuff.',\n",
              " \"i'm back, lemm know readi\",\n",
              " \"necessarili expect done get back though i'm headin\",\n",
              " 'mmm yummi babe ... nice jolt suzi',\n",
              " 'lover ? need ...',\n",
              " 'tri contact repli offer video handset? 750 anytim network mins? unlimit text? camcorder? repli call 08000930705',\n",
              " 'i\\x89û÷m park next mini!!!! come today think?',\n",
              " 'yup',\n",
              " \"anyway i'm go shop now. co si done yet. dun disturb u liao.\",\n",
              " 'no. luton 0125698789 ring ur around! h*',\n",
              " 'hey realli horni want chat see nake text hot 69698 text charg 150pm unsubscrib text stop 69698',\n",
              " 'dint come us.',\n",
              " 'same. wana plan trip sometm',\n",
              " 'sure yet, still tri get hold',\n",
              " 'ur rington servic changed! 25 free credits! go club4mobiles.com choos content now! stop? txt club stop 87070. 150p/wk club4 po box1146 mk45 2wt',\n",
              " 'evo. download flash. jealous?',\n",
              " 'rington club: get uk singl chart mobil week choos top qualiti ringtone! messag free charge.',\n",
              " \"come mu, we'r sort narcot situat\",\n",
              " 'night end anoth day, morn come special way. may smile like sunni ray leav worri blue blue bay.',\n",
              " 'hmv bonu special 500 pound genuin hmv voucher won. answer 4 easi questions. play now! send hmv 86688 info:www.100percent-real.com',\n",
              " 'usf guess, might well take 1 car',\n",
              " 'objection. bf coming.',\n",
              " 'thanx...',\n",
              " 'tell rob mack gf theater',\n",
              " \"awesome, i'll see bit\",\n",
              " 'sent it. type food like?',\n",
              " 'done? hand in? celebr full swing yet?',\n",
              " 'got call tool?',\n",
              " '\\\\wen u miss someon',\n",
              " 'ok. ask money far',\n",
              " 'okie...',\n",
              " \"yeah think usual guy' still pass last night, get ahold anybodi let know i'll throw\",\n",
              " 'k, might come tonight class let earli',\n",
              " 'ok..',\n",
              " 'hi babi im cruisin girl friend r u 2? give call hour home that alright fone fone love jenni xxx',\n",
              " 'life mean lot me, love life, love peopl life, world call friends, call world:-).. ge:-)..',\n",
              " 'dear,shal mail tonite.busi street,shal updat tonite.th look ok.varunnathu edukkukaye raksha ollu.but good one real sense.',\n",
              " 'hey told name gautham ah?',\n",
              " 'haf u found him? feel stupid da v cam working.',\n",
              " 'oops. 4 got bit.',\n",
              " 'much buzi',\n",
              " 'accident delet message. resend please.',\n",
              " \"t-mobil custom may claim free camera phone upgrad & pay & go sim card loyalty. call 0845 021 3680.offer end 28thfeb.t&c' appli\",\n",
              " 'unless situat go gurl would appropri',\n",
              " 'hurt me... teas me... make cry... end life die plz keep one rose grave say stupid miss u.. nice day bslvyl',\n",
              " 'cant pick phone right now. pl send messag',\n",
              " \"need coffe run tomo?can't believ time week alreadi\",\n",
              " 'awesome, rememb last time got somebodi high first time diesel :v',\n",
              " 'shit realli shock scary, cant imagin second. def night out. u think somewher could crash night, save taxi?',\n",
              " 'oh way food fridge! want go meal tonight?',\n",
              " 'womdarful actor',\n",
              " 'sms. ac blind date 4u!: rodds1 21/m aberdeen, unit kingdom. check http://img. sms. ac/w/icmb3cktz8r7!-4 blind date send hide',\n",
              " 'yup... remb... think book...',\n",
              " 'jo ask u wana meet up?',\n",
              " 'lol yes. friendship hang thread caus u buy stuff.',\n",
              " 'themob> check newest select content, games, tones, gossip, babe sport, keep mobil fit funki text wap 82468',\n",
              " 'garag keys? bookshelf',\n",
              " 'today accept day..u accept as? brother sister lover dear1 best1 clos1 lvblefrnd jstfrnd cutefrnd lifpartnr belovd swtheart bstfrnd rpli mean enemi',\n",
              " 'think ur smart ? win å£200 week weekli quiz, text play 85222 now!t&c winnersclub po box 84, m26 3uz. 16+. gbp1.50/week',\n",
              " \"say he'll give call friend' got money he' definit buy end week\",\n",
              " 'hi way u 2day, normal way&thi real me. ur unique&i hope know u 4 rest mylife. hope u find wot lost.',\n",
              " 'made day. great day too.',\n",
              " 'k.k:)advanc happi pongal.',\n",
              " 'hmmm... guess go 4 kb n power yoga... haha, dunno tahan power yoga anot... thk got lo oso, forgot liao...',\n",
              " \"realli dude, friend i'm afraid :(\",\n",
              " 'decemb only! mobil 11mths+? entitl updat latest colour camera mobil free! call mobil updat co free 08002986906',\n",
              " 'coffe cake, guess...',\n",
              " 'merri christma babe, love ya *kisses*',\n",
              " 'hey... dont go watch x men lunch... haha',\n",
              " 'cud u tell ppl im gona b bit l8 co 2 buse hav gon past co full & im still waitin 4 1. pete x',\n",
              " \"would great. we'll guild. could meet bristol road somewher - get touch weekend. plan take flight! good week\",\n",
              " 'problem. doing?',\n",
              " 'calls..messages..miss call',\n",
              " 'hi da:)how today class?',\n",
              " \"i'd say that' good sign but, well, know track record read women\",\n",
              " 'cool, text park',\n",
              " \"i'm read text sent you. meant joke. read light\",\n",
              " 'k.k:)apo k.good movie.',\n",
              " 'mayb could get book tomo return immedi ..? something.',\n",
              " 'call germani 1 penc per minute! call fix line via access number 0844 861 85 85. prepayment. direct access!',\n",
              " \"chanc might evapor soon violat privaci steal phone number employer' paperwork. cool all. pleas contact report supervisor.\",\n",
              " 'valentin day special! win å£1000 quiz take partner trip lifetime! send go 83600 now. 150p/msg rcvd. custcare:08718720201.',\n",
              " 'ta-daaaaa! home babe, still ?',\n",
              " 'cool. come havent wine dine before?',\n",
              " 'sleeping..and surf',\n",
              " \"sorry, i'll call later\",\n",
              " 'u call right? call hand phone...',\n",
              " \"ok that' great thanx lot.\",\n",
              " 'take post come then! must 1000 text now! happi reading. one wiv hello carolin end favourite. bless',\n",
              " 'u hide stranger?',\n",
              " 'interest like that.',\n",
              " 'sister clear two round birla soft yesterday.',\n",
              " 'gudnite....tc...practic go',\n",
              " 'di yijue. ju saw ur mail. case huim havent sent u num. di num.',\n",
              " 'one small prestig problem now.',\n",
              " 'fanci shag? do.interested? sextextuk.com txt xxuk suzi 69876. txt cost 1.50 per msg. tnc website. x',\n",
              " 'check you. realli miss see jeremiah. great month',\n",
              " \"nah can't help there, i'v never iphon\",\n",
              " \"car hour half i'm go apeshit\",\n",
              " \"today sorri day.! ever angri you, ever misbehav hurt you? plz plz slap urself bcoz, ur fault, i'm basic good\",\n",
              " 'yo guy ever figur much need alcohol? jay tri figur much safe spend weed',\n",
              " '&lt;#&gt; ish minut 5 minut ago. wtf.',\n",
              " 'thank calling.forgot say happi onam sirji.i fine rememb met insur person.meet qatar insha allah.rakhesh, ex tata aig join tissco,tayseer.',\n",
              " 'congratul ur award 500 cd voucher 125gift guarante & free entri 2 100 wkli draw txt music 87066 tnc www.ldew.com1win150ppmx3age16',\n",
              " 'ur cash-bal current 500 pound - maxim ur cash-in send cash 86688 150p/msg. cc: 08708800282 hg/suite342/2land row/w1j6hl',\n",
              " \"i'm actor. work, work even sleep late. sinc i'm unemploy moment, alway sleep late. unemployed, everi day saturday.\",\n",
              " 'hello! got here, st andrews-boy long way! cold. keep post',\n",
              " 'ha ha cool cool chikku chikku:-):-db-)',\n",
              " 'oh ok prob..',\n",
              " \"check audrey' statu right\",\n",
              " 'busi here. tri finish new year. look forward final meet you...',\n",
              " 'good afternoon sunshine! dawn day ? refresh happi alive? breath air smile ? think you, love ... alway',\n",
              " 'well know z take care me. worries.',\n",
              " 'update_now - xma offer! latest motorola, sonyericsson & nokia & free bluetooth! doubl min & 1000 txt orange. call mobileupd8 08000839402 call2optout/f4q=',\n",
              " 'discount code rp176781. stop messag repli stop. www.regalportfolio.co.uk. custom servic 08717205546',\n",
              " 'wat uniform? get?',\n",
              " 'cool, text readi',\n",
              " 'hello boytoy ... geeee miss alreadi woke up. wish bed me, cuddl me. love ...',\n",
              " 'spoil bed well :)',\n",
              " \"i'm go bath msg next &lt;#&gt; min..\",\n",
              " 'cant keep talk peopl sure pay agre price. pl tell want realli buy much will pay',\n",
              " 'thank rington order, refer t91. charg gbp 4 per week. unsubscrib anytim call custom servic 09057039994',\n",
              " 'say happen',\n",
              " \"could seen me..i did't recognis face.:)\",\n",
              " \"well there' lot thing happen lindsay new year *sighs* bar ptbo blue heron someth go\",\n",
              " 'keep payasam rinu bring',\n",
              " 'taught ranjith sir call me. sm like that. becau he verifi project. prabu told today pa dont mistak me..',\n",
              " \"guess that' worried. must know there' way bodi repair itself. i'm quit sure worry. we'll take slow. first tests, guid ovul relax. noth said reason worri i.ll keep followin up.\",\n",
              " 'yeah sure, give coupl minut track wallet',\n",
              " 'hey leav it. big deal:-) take care.',\n",
              " 'hey late ah... meet 945+',\n",
              " 'doubl min txt 4 6month free bluetooth orange. avail sony, nokia motorola phones. call mobileupd8 08000839402 call2optout/n9dx',\n",
              " 'took mr owl 3 lick',\n",
              " 'custom place call you.',\n",
              " 'mm time dont like fun',\n",
              " '4mth half price orang line rental & latest camera phone 4 free. phone 11mth ? call mobilesdirect free 08000938767 updat now! or2stoptxt',\n",
              " 'yup lunch buffet now.. u eat already?',\n",
              " 'huh late... fr dinner?',\n",
              " 'hey sat go intro pilat only? kickbox too?',\n",
              " 'morn ok.',\n",
              " 'ye think so. offic lap room think that last days. didnt shut',\n",
              " 'pick bout 7.30ish? time going?',\n",
              " 'perform award calcul everi two month.not current one month period..',\n",
              " 'actual sleep still might u call back. text gr8. rock sis. send u text wen wake.',\n",
              " \"alway put busi there. put pictur ass facebook. one open peopl i'v ever met. would think pictur room would hurt you, make feel violated.\",\n",
              " 'good even sir, al salam wahleykkum.shar happi news.bi grace god, got offer tayseer,tissco joined.hop fine.inshah allah,meet sometime.rakhesh,visitor india.',\n",
              " 'hmmm...k...but want chang field quickli da:-)i wanna get system administr network administrator..',\n",
              " 'free rington text first 87131 poli text get 87131 true tone! help? 0845 2814032 16 1st free, tone 3xå£150pw eå£nd txt stop',\n",
              " 'dear chechi. talk',\n",
              " 'hair cream shipped.',\n",
              " \"none that' happen til get though\",\n",
              " 'yep, great loxahatche xma tree burn &lt;#&gt; start hour',\n",
              " 'haha get use drive usf man, know lot stoner',\n",
              " \"well slightli disastr class pm fav darlings! hope day ok. coffe wld good can't stay late tomorrow. time + place always?\",\n",
              " 'hello! good week? fanci drink someth later?',\n",
              " 'headin toward busetop',\n",
              " 'message:som text missing* sender:nam missing* *number miss *sent:dat miss *miss u lot that everyth miss sent via fullonsms.com',\n",
              " 'come room point iron plan weekend',\n",
              " 'co want thing',\n",
              " \"okies... i'll go yan jiu too... skip ard oso, go cine den go mrt one, blah blah blah...\",\n",
              " 'bring home wendi =d',\n",
              " '100 date servic cal;l 09064012103 box334sk38ch',\n",
              " 'whatsup there. dont u want sleep',\n",
              " 'alright new goal',\n",
              " 'free entri å£250 weekli competit text word win 80086 now. 18 t&c www.txttowin.co.uk',\n",
              " \"alright, i'll head minutes, text meet\",\n",
              " 'send logo 2 ur lover - 2 name join heart. txt love name1 name2 mobno eg love adam eve 07123456789 87077 yahoo! pobox36504w45wq txtno 4 ad 150p',\n",
              " \"yes:)from last week i'm take live call.\",\n",
              " 'someon contact date servic enter phone fanci you! find call landlin 09111032124 . pobox12n146tf150p',\n",
              " 'siva hostel aha:-.',\n",
              " 'urgent! mobil number award å£2000 prize guaranteed. call 09058094455 land line. claim 3030. valid 12hr',\n",
              " 'send ur friend receiv someth ur voice..... speak expression? 1.childish 2.naughti 3.sentiment 4.rowdi 5.ful attitud 6.romant 7.shi 8.attract 9.funni &lt;#&gt; .irrit &lt;#&gt; .lovable. repli me..',\n",
              " \"ok. she'll ok. guess\",\n",
              " 'aathi..wher dear..',\n",
              " 'pain urin thing else?',\n",
              " '7 esplanade.. ì_ mind give lift co got car today..',\n",
              " 'wnt buy bmw car urgently..it vri urgent.but hv shortag &lt;#&gt; lacs.ther sourc arng di amt. &lt;#&gt; lacs..that prob',\n",
              " 'home watch tv lor.',\n",
              " 'usual take fifteen fuck minut respond ye question',\n",
              " 'congrats! nokia 3650 video camera phone call 09066382422 call cost 150ppm ave call 3min vari mobil 16+ close 300603 post bcm4284 ldn wc1n3xx',\n",
              " 'book ticket pongal?',\n",
              " \"avail now? i'm like right around hillsborough &amp; &lt;#&gt; th\",\n",
              " 'messag sent askin &lt;#&gt; dollars. shoul pay &lt;#&gt; &lt;#&gt; ?',\n",
              " \"ask g iouri, i'v told stori like ten time alreadi\",\n",
              " 'long applebe fuck take',\n",
              " 'hi hope u get txt~journey hasnt gd,now 50 min late think.',\n",
              " 'to. like love arrange.',\n",
              " 'yes..h realli great..bhaji told kalli best cricket sachin world:).veri tough get out.',\n",
              " 'suppos wake &gt;:(',\n",
              " 'oic... saw tot din c me... found group liao...',\n",
              " \"sorry, i'll call later\",\n",
              " '\\\\hey hey wereth monkeespeopl say monkeyaround! howdi gorgeou',\n",
              " \"sorry, batteri died, come i'm get gram now, where' place?\",\n",
              " 'well done, blimey, exercise, yeah, kinda rememb wot is, hmm.',\n",
              " 'wont get concentr dear know mind everyth :-)',\n",
              " 'lol ... made plan new years?',\n",
              " '10 min later k...',\n",
              " 'hank lotsly!',\n",
              " 'thank hope good day today',\n",
              " 'k:)k:)what detail want transfer?acc enough?',\n",
              " 'ok tell stay out. yeah tough optimist thing improv month.',\n",
              " \"loan purpos å£500 - å£75,000. homeown + tenant welcome. previous refused? still help. call free 0800 1956669 text back 'help'\",\n",
              " 'si si. think ill go make oreo truffles.',\n",
              " 'look ami ure beautiful, intellig woman like u lot. know u donåõt like like donåõt worry.',\n",
              " \"hope that' result consist intellig kind. start ask practicum link keep ear open best. ttyl\",\n",
              " '1.20 call cost. guess isnt bad. miss ya, need ya, want ya, love ya',\n",
              " 'go thru differ feeling.wav decis cope individual.tim heal everyth believe.',\n",
              " 'u go? phone gonna die stay',\n",
              " 'great. never better. day give even reason thank god',\n",
              " \"upgrdcentr orang customer, may claim free camera phone upgrad loyalty. call 0207 153 9153. offer end 26th july. t&c' apply. opt-out avail\",\n",
              " \"sorry, i'll call later ok bye\",\n",
              " 'ok way railway',\n",
              " 'great princess! love give receiv oral. doggi style fave position. you? enjoy make love &lt;#&gt; time per night :)',\n",
              " 'put stuff road keep get slipperi there?',\n",
              " 'go ride bike?',\n",
              " \"yup, need. i'll ju wait 4 e rain 2 stop.\",\n",
              " 'mani company. tell language.',\n",
              " 'okmail: dear dave final notic collect 4* tenerif holiday #5000 cash award! call 09061743806 landline. tc sae box326 cw25wx 150ppm',\n",
              " 'long sinc screamed, princess?',\n",
              " 'nothing. meant money enter account here, bank remov flat rate. someon transfer &lt;#&gt; account &lt;#&gt; dollar got removed. bank differ charg also differ.b sure trust 9ja person send account detail cos...',\n",
              " \"want 2 get laid tonight? want real dog locat sent direct 2 ur mob? join uk' largest dog network txting moan 69888nyt. ec2a. 31p.msg@150p\",\n",
              " 'nice line said broken heart- plz cum 1 time infront me... wise trust u... good 9t:)',\n",
              " \"ok i'm gonna head usf like fifteen minut\",\n",
              " 'love aathi..lov u lot..',\n",
              " 'tension ah?what machi?ani problem?',\n",
              " 'k, pick anoth 8th done?',\n",
              " \"when'r guy get back? g said think stay mcr\",\n",
              " 'almost there, see u sec',\n",
              " 'yo carlos, friend alreadi ask you, work weekend?',\n",
              " 'watch tv lor...',\n",
              " 'thank baby! cant wait tast real thing...',\n",
              " 'chang fb jaykwon thuglyf falconerf',\n",
              " 'win realli 1 side long time.',\n",
              " 'free messag activ 500 free text messag repli messag word free term & conditions, visit www.07781482378.com',\n",
              " 'dear reach railway. happen',\n",
              " 'depend quality. want type sent boye, fade glory, 6. want ralph mayb 2',\n",
              " \"think i'v fix send test message?\",\n",
              " \"sorri man account' dri would, want could trade back half could buy shit credit card\",\n",
              " 'congrats! 1 year special cinema pass 2 yours. call 09061209465 now! c suprman v, matrix3, starwars3, etc 4 free! bx420-ip4-5we. 150pm. dont miss out!',\n",
              " \"sorry,in meet i'll call later\",\n",
              " 'class &lt;#&gt; reunion?',\n",
              " 'free now?can call now?',\n",
              " 'got meh... when?',\n",
              " 'nope... think go monday... sorri repli late',\n",
              " 'told accentur confirm. true.',\n",
              " 'kate jackson rec center 7ish, right?',\n",
              " 'dear reach room',\n",
              " 'fight world easy, u either win lose bt fightng some1 close u dificult u lose - u lose u win - u still lose.',\n",
              " 'ì_ come out?',\n",
              " 'check nuerologist.',\n",
              " 'lolnice. went fish ..water.?',\n",
              " \"+123 congratul - week' competit draw u å£1450 prize claim call 09050002311 b4280703. t&cs/stop sm 08718727868. 18 150ppm\",\n",
              " \"wait e car dat' bore wat. co wait outsid got noth 2 do. home stuff watch tv wat.\",\n",
              " 'mayb westshor hyde park village, place near house?',\n",
              " \"know now. how' anthony. bring money. i'v school fee pay rent stuff like that. that need help. friend need....|\",\n",
              " \"what' significance?\",\n",
              " 'opinion me? 1. 2. jada 3. kusruthi 4. lovabl 5. silent 6. spl charact 7. matur 8. stylish 9. simpl pl reply..',\n",
              " \"8 latest, g' still scroung ammo want give new ak tri\",\n",
              " \"prabha..i'm soryda..realy..frm heart i'm sori\",\n",
              " 'lol ok forgiven :)',\n",
              " 'no..jst chang tat only..',\n",
              " 'guarante latest nokia phone, 40gb ipod mp3 player å£500 prize! txt word: collect no: 83355! ibhltd ldnw15h 150p/mtmsgrcvd18+',\n",
              " 's:)no competit him.',\n",
              " 'boltblu tone 150p repli poly# mono# eg poly3 1. cha cha slide 2. yeah 3. slow jamz 6. toxic 8. come stop 4 tone txt',\n",
              " 'credit top http://www.bubbletext.com renew pin tgxxrz',\n",
              " 'way transport less problemat sat night. way, u want ask n join bday, feel free. need know definit no book fri.',\n",
              " \"usual person unconsci that' children adult may behav abnormally. i.ll call\",\n",
              " \"that' ebay might less elsewhere.\",\n",
              " 'shall come get pickl',\n",
              " 'gonna go get taco',\n",
              " \"that' rude, campus?\",\n",
              " 'urgent!: mobil no. award å£2,000 bonu caller prize 02/09/03! 2nd attempt contact you! call 0871-872-9755 box95qu',\n",
              " \"hi b ard 4 christmas. enjoy n merri x'mas.\",\n",
              " \"today' offer! claim ur å£150 worth discount vouchers! text ye 85023 now! savamob, member offer mobile! cs 08717898035. å£3.00 sub. 16 . unsub repli x\",\n",
              " 'yes! pretti ladi like single?',\n",
              " 'reciev tone within next 24hrs. term condit pleas see channel u teletext pg 750',\n",
              " 'jay say double-faggot',\n",
              " 'private! 2003 account statement 07815296484 show 800 un-redeem s.i.m. points. call 08718738001 identifi code 41782 expir 18/11/04',\n",
              " 'today-sunday..sunday holiday..so work..',\n",
              " 'gudnite....tc...practic go',\n",
              " \"i'll late...\",\n",
              " \"i'v call while. hope l8r malaria know miss guys. miss bani big, pl give love especially. great day.\",\n",
              " 'good afternoon, love! goe day ? hope mayb got lead job. think you, boytoy send passion kiss across sea',\n",
              " 'probabl gonna while, see later tonight &lt;)',\n",
              " 'mayb fat finger press button know do.',\n",
              " 'ummmmmaah mani mani happi return day dear sweet heart.. happi birthday dear',\n",
              " 'tirupur da, start offic call me.',\n",
              " 'www.applausestore.com monthlysubscription@50p/msg max6/month t&csc web age16 2stop txt stop',\n",
              " \"famou quot : develop abil listen 'anything' uncondit without lose temper self confidence, mean ......... 'married'\",\n",
              " 'go colleg pa. do. els ill come self. pa.',\n",
              " '4 oclock mine. bash flat plan.',\n",
              " 'girl stay bed. girl need recoveri time. id rather pass fun coop bed',\n",
              " 'special there?',\n",
              " \"know need get hotel now. got invit apologise. cali sweet come english bloke' weddin\",\n",
              " 'sorri took long, omw',\n",
              " 'wait &lt;#&gt; min..',\n",
              " 'ok give 5 minut think see her. btw alibi. cut hair whole time.',\n",
              " 'imagin final get sink bath put paces, mayb even eat left ... also imagin feel cage cock surround bath water, remind alway own ... enjoy, cuck',\n",
              " \"hurri up, i'v weed-defici like three day\",\n",
              " 'sure, get acknowledg astoundingli tactless gener faggi demand blood oath fo',\n",
              " 'ok. everi night take warm bath drink cup milk see work magic. still need loos weight. know',\n",
              " 'i\\x89û÷ll look fri pan case it\\x89û÷ cheap book perhaps. that\\x89û÷ silli fri pan isn\\x89û÷t like book',\n",
              " 'o. well uv caus mutations. sunscreen like essenti theseday',\n",
              " 'lunch:)you online?why?',\n",
              " 'know friend alreadi told that.',\n",
              " 'hi princess! thank pics. pretty. you?',\n",
              " 'aiyo... u alway c ex one... dunno abt mei, reply... first time u repli fast... lucki workin huh, got bao ur sugardad ah...gee..',\n",
              " \"hi msg me:)i'm office..\",\n",
              " 'thanx 4 e browni v nice...',\n",
              " 'geeeee ... love much bare stand',\n",
              " 'gent! tri contact you. last weekend draw show å£1000 prize guaranteed. call 09064012160. claim code k52. valid 12hr only. 150ppm',\n",
              " \"fuck babe ... miss already, know ? can't let send money toward net ? need ... want ... crave ...\",\n",
              " 'ill call u 2mrw ninish, address icki american freek wont stop callin 2 bad jen k eh?',\n",
              " 'oooh bed ridden ey? think of?',\n",
              " 'anyways, go gym whatever, love *smiles* hope ok good day babe ... miss much alreadi',\n",
              " 'love it! daddi make scream pleasure! go slap ass dick!',\n",
              " 'wot u wanna missy?',\n",
              " 'yar lor wait 4 mum 2 finish sch lunch lor... whole morn stay home clean room room quit clean... hee...',\n",
              " 'know lab goggl went',\n",
              " 'open door?',\n",
              " 'wait call.',\n",
              " 'nope wait sch 4 daddy...',\n",
              " '?1,000 cash ?2,000 prize! claim, call09050000327',\n",
              " \"i'm tire argu week week. want on, i'll same.\",\n",
              " 'ìï wait 4 sch finish ard 5..',\n",
              " 'mobil number å£5000, claim call us back ring claim hot line 09050005321.',\n",
              " 'arngd marriag u r walkin unfortuntli snake bite u. bt love marriag danc frnt snake &amp; sayin bite me, bite me.',\n",
              " 'huh early.. ì_ dinner outsid izzit?',\n",
              " 'ok anyway need chang said',\n",
              " 'tri contact repli offer 750 min 150 textand new video phone call 08002988890 repli free deliveri tomorrow',\n",
              " 'ex-wif abl kids. want kid one day?',\n",
              " \"how' scotland. hope show jjc tendencies. take care. live dream\",\n",
              " 'tell u headach want use 1 hour sick time.',\n",
              " \"dun thk i'll quit yet... hmmm, go jazz ? yogasana oso can... go meet em lesson den...\",\n",
              " '\\\\pete pleas ring meiv hardli gotani credit\\\\\"\"',\n",
              " 'ya srsli better yi tho',\n",
              " \"i'm meeting, call later\",\n",
              " \"ur chanc win å£250 wkli shop spree txt: shop 80878. t's&c' www.txt-2-shop.com custcar 08715705022, 1x150p/wk\",\n",
              " 'special select receiv 2000 pound award! call 08712402050 line close. cost 10ppm. 16+. t&c apply. ag promo',\n",
              " 'private! 2003 account statement 07753741225 show 800 un-redeem s. i. m. points. call 08715203677 identifi code: 42478 expir 24/10/04',\n",
              " 'still grand prix?',\n",
              " 'met stranger choos friend. long world stands, friendship never ends. let friend forever!!! gud nitz...',\n",
              " 'great! you?',\n",
              " 'gud mrng dear nice day',\n",
              " 'import custom servic announcement. call freephon 0800 542 0825 now!',\n",
              " 'do. exhaust train morning. much wine pie. sleep well',\n",
              " \"i'm go buy mum' present ar.\",\n",
              " 'mind blastin.. tsunami occur on.. rajnik stop swim indian ocean..:-d',\n",
              " \"u send home first ok lor. i'm readi yet.\",\n",
              " 'speak cash yet?',\n",
              " 'happi there. come noon',\n",
              " 'meet lunch la...',\n",
              " 'take care n get well soon',\n",
              " 'xclusive@clubsaisai 2morow 28/5 soire special zouk nichol paris.fre rose 2 ladi !!! info: 07946746291/07880867867',\n",
              " 'meant say cant wait see u get bore bridgwat banter',\n",
              " 'neva mind ok..',\n",
              " 'fine, imma get drink somethin. want come find you?',\n",
              " '22 day kick off! euro2004 u kept date latest news result daily. remov send get txt stop 83222',\n",
              " 'valentin game. . . send di msg ur friends. .. 5 answer r someon realli love u. ques- colour suit best?rpli',\n",
              " 'mani depend',\n",
              " 'thanx4 today cer nice 2 catch ave 2 find time often oh well take care c u soon.c',\n",
              " 'call said him:)then choos future.',\n",
              " '\\\\happi valentin day\\\\\" know earli hundr handsom beauti wish. thought finish aunti uncl 1st...\"',\n",
              " 'like v shock leh. co tell shuhui like tell leona also. like dat almost know liao. got ask abt ur reaction lor.',\n",
              " 'famili happiness..',\n",
              " 'come n pick ì_ up... come immedi aft ur lesson...',\n",
              " 'let snow. let snow. kind weather bring ppl togeth friendship grow.',\n",
              " 'dear got &lt;#&gt; dollar hi hi',\n",
              " 'good words.... word may leav u dismay mani times.',\n",
              " 'make sure alex know birthday fifteen minut far concern',\n",
              " 'sorry, no, got thing do. may pub later.',\n",
              " \"nah straight, bring bud drink someth that' actual littl use straight cash\",\n",
              " \"haha good hear, i'm offici paid market 8th\",\n",
              " 'mani lick take get center tootsi pop?',\n",
              " 'yup thk r e teacher said make face look longer. darren ask 2 cut short.',\n",
              " 'new textbuddi chat 2 horni guy ur area 4 25p free 2 receiv search postcod gaytextbuddy.com. txt one name 89693',\n",
              " 'today vodafon number end 4882 select receiv å£350 award. number match call 09064019014 receiv å£350 award.',\n",
              " 'pleas dont say like that. hi hi hi',\n",
              " 'thank u!',\n",
              " 'oh forward message. thought send',\n",
              " 'got it. seventeen pound seven hundr ml \\x89ûò hope ok.',\n",
              " 'dear voucher holder, 2 claim week offer, pc go http://www.e-tlp.co.uk/expressoff ts&c apply.2 stop text txt stop 80062.',\n",
              " 'n funny...',\n",
              " 'sweetheart, hope kind day! one load reason smile. biola',\n",
              " 'ì_ login dat time... dad fetch ì_ home now?',\n",
              " 'shower, baby?',\n",
              " 'askd u question hour before. answer',\n",
              " \"well imma definit need restock thanksgiving, i'll let know i'm\",\n",
              " \"said kiss, kiss, can't sound effects! gorgeou man he! kind person need smile brighten day!\",\n",
              " 'probabl gonna swing wee bit',\n",
              " 'ya nice. . .be readi thursday',\n",
              " 'allo! brave buse taken train triumphed. mean we\\x89û÷r b\\x89û÷ham. jolli good rest week',\n",
              " 'watch cartoon, listen music &amp; eve go templ &amp; church.. u?',\n",
              " 'mind ask happened? dont say uncomfortable.',\n",
              " 'private! 2003 account statement show 800 un-redeem s. i. m. points. call 08715203694 identifi code: 40533 expir 31/10/04',\n",
              " 'prob. send email.',\n",
              " '?1,000 cash ?2,000 prize! claim, call09050000327. t&c: rstm, sw7 3ss. 150ppm',\n",
              " 'that cool! sometim slow gentle. sonetim rough hard :)',\n",
              " \"i'm gonna say no. sorry. would normal start panic time. sorri again! see tuesday?\",\n",
              " 'wait, know wesley town? bet hella drugs!',\n",
              " 'fine miss much.',\n",
              " 'u got person stori',\n",
              " \"tell drug dealer' get impati\",\n",
              " 'sun cant come earth send luv rays. cloud cant come river send luv rain. cant come meet u, send care msg u. gud evng',\n",
              " 'place man',\n",
              " 'doesnt make sens take unless free. need know more, wikipedia.com',\n",
              " '88800 89034 premium phone servic call 08718711108',\n",
              " \"sea, lay rock. rock, envelope. envelope, paper. paper, 3 words... '\",\n",
              " \"mum' repent how?\",\n",
              " 'sorri go home first... daddi come fetch ì_ later...',\n",
              " 'leav de:-). start prepar next:-)..',\n",
              " 'ye baby! studi posit kama sutra ;)',\n",
              " 'en chikku nang bakra msg kalstiya..then tea/coffee?',\n",
              " \"carlos'l minut still need buy\",\n",
              " 'pay &lt;decimal&gt; lakhs:)',\n",
              " 'good evening! ttyl',\n",
              " 'u receiv msg?',\n",
              " 'ho ho - big belli laugh! see ya tomo',\n",
              " 'sms. ac sun0819 post hello:\\\\y seem cool',\n",
              " 'get ur 1st rington free now! repli msg tone. gr8 top 20 tone phone everi week å£1.50 per wk 2 opt send stop 08452810071 16',\n",
              " \"ditto. worri say anyth anymore. like said last night, whatev want i'll same. peace.\",\n",
              " \"i'v got &lt;#&gt; , way could pick up?\",\n",
              " 'dont knw pa, drink milk..',\n",
              " 'maybe?! say hi find got card. great escap wetherspoons?',\n",
              " \"piggy, r u awake? bet u'r still sleeping. i'm go 4 lunch now...\",\n",
              " \"caus i'm freaki lol\",\n",
              " \"miss call caus yell scrappy. miss u. can't wait u come home. i'm lone today.\",\n",
              " \"'hex' place talk of? explain!\",\n",
              " 'ìï log 4 wat. sdryb8i',\n",
              " 'xy go 4 e lunch?',\n",
              " \"hi i'm sue. 20 year old work lapdancer. love sex. text live - i'm bedroom now. text sue 89555. textoper g2 1da 150ppmsg 18+\",\n",
              " 'want ask ì_ wait 4 finish lect. co lect finish hour anyway.',\n",
              " 'finish work yet? :)',\n",
              " 'everi king cri babi everi great build map.. imprtant u r today, u wil reach tomorw. gud ni8',\n",
              " 'dear,m cherthala.in case u r come cochin pl call bfore u start.i shall also reach accordingly.or tell day u r coming.tmorow engag an holiday.',\n",
              " 'thank love. torch bold.',\n",
              " '<forward 448712404000>pleas call 08712404000 immedi urgent messag wait you.',\n",
              " 'farm open?',\n",
              " 'sorri troubl u again. buy 4d dad again? 1405, 1680, 1843. 2 big 1 small, sat n sun. thanx.',\n",
              " 'sister law, hope great month. say hey. abiola',\n",
              " 'purchas stuff today mail you. po box number?',\n",
              " 'ah poop. look like ill prob send laptop get fix cuz gpu problem',\n",
              " 'good. good job. like entrepreneur',\n",
              " \"aight, close still around alex' place?\",\n",
              " 'meet corpor st outsid gap \\x89û_ see mind working!',\n",
              " 'mum ask ì_ buy food home...',\n",
              " 'k..u also dont msg repli msg..',\n",
              " 'much r ì_ will pay?',\n",
              " \"sorry, i'll call later\",\n",
              " 'import prevent dehydr give enough fluid',\n",
              " 'that bit weird, even ?- suppos happening? good idea, sure pub!',\n",
              " \"true dear..i sat pray even felt so.so sms'd time...\",\n",
              " 'think get away trek long famili town, sorri',\n",
              " 'wanna gym harri',\n",
              " 'quit late lar... ard 12 anyway wun b drivin...',\n",
              " 'review keep fantast nokia n-gage game deck club nokia, go 2 www.cnupdates.com/newsletter. unsubscrib alert repli word',\n",
              " '4mth half price orang line rental & latest camera phone 4 free. phone 11mths+? call mobilesdirect free 08000938767 updat now! or2stoptxt t&c',\n",
              " 'height confidence: aeronaut professor wer calld &amp; wer askd 2 sit aeroplane. aftr sat wer told dat plane ws made students. dey hurri plane.. bt 1 didnt move... said:\\\\if made student',\n",
              " 'seem like weird time night g want come smoke day shitstorm attribut alway come make everyon smoke',\n",
              " '08714712388 10am-7pm cost 10p',\n",
              " 'save stress. person dorm account, send account detail money sent you.',\n",
              " 'also know lunch menu da. . know',\n",
              " 'stuff sell i.ll tell',\n",
              " '+449071512431 urgent! 2nd attempt contact u!u å£1250 call 09071512433 b4 050703 t&csbcm4235wc1n3xx. callcost 150ppm mobilesvary. maxå£7. 50',\n",
              " \"book lesson? msg me... call work sth... i'm go get specs. membership px3748\",\n",
              " 'guarante å£1000 cash å£2000 prize. claim yr prize call custom servic repres 08714712394 10am-7pm',\n",
              " 'macha dont feel upset.i assum mindset.believ one even wonder plan us.let life begin again.cal anytim',\n",
              " 'oh it? send address',\n",
              " \"s'fine. anytime. best it.\",\n",
              " 'wondar full flim.',\n",
              " 'ya even cooki jelli',\n",
              " 'world run still.mayb feel same,so it.or admit,i mad.then correction?or let call life.and keep run world,may u r also running.let run.',\n",
              " 'got it! look scrumptious... daddi want eat night long!',\n",
              " \"co lar i'm ba dao ok... 1 pm lor... u never ask go ah... said u would ask fri said u ask today...\",\n",
              " 'alright omw, gotta chang order half8th',\n",
              " 'exactly. anyway far. jide studi visit',\n",
              " 'dunno u ask me.',\n",
              " 'email alertfrom: jeri stewartsize: 2kbsubject: low-cost prescripiton drvgsto listen email call 123',\n",
              " \"didn't. spring come earli yay!\",\n",
              " 'lol feel bad use money take steak dinner =d',\n",
              " 'even u dont get troubl convincing..just tel twice tel neglect msg dont c read it..just dont repli',\n",
              " 'leav qatar tonit search opportunity.al went fast.pl add ur prayer dear.rakhesh',\n",
              " 'one talk',\n",
              " 'thank look me. realli appreciate.',\n",
              " 'hi. custom loyalti offer:th new nokia6650 mobil å£10 txtauction! txt word: start no: 81151 & get now! 4t&ctxt tc 150p/mtmsg',\n",
              " 'wish now!',\n",
              " \"haha mayb u'r rite... u know well. da feel like someon gd lor. u faster go find one gal group attach liao.\",\n",
              " 'ye there. glad made it.',\n",
              " 'well :)all littl time. thing good time ahead:',\n",
              " 'got up. room soon. \\x89û_. put clock back til 8 shout everyon get realis 7. wahay. anoth hour bed.',\n",
              " 'ok. may free gym about.',\n",
              " 'men like shorter ladies. gaze eyes.',\n",
              " 'dunno ju say go lido. time 930.',\n",
              " 'promis take good care you, princess. run now. pleas send pic get chance. ttyl!',\n",
              " 'u subscrib best mobil content servic uk å£3 per 10 day send stop 82324. helplin 08706091795',\n",
              " \"reason we'v spoken year? anyway great week best exam\",\n",
              " 'monday next week. give full gist',\n",
              " \"realiz 40 years, we'll thousand old ladi run around tattoos?\",\n",
              " 'import custom servic announc premier.',\n",
              " 'dont gimm lip caveboy',\n",
              " 'get librari',\n",
              " 'reali sorry-i recognis number confus :) r u please?!',\n",
              " 'didnt holla?',\n",
              " 'cant think anyon * spare room * top head',\n",
              " 'faith make thing possible,hop make thing work,lov make thing beautiful,may three christmas!merri christmas!',\n",
              " 'u made appoint',\n",
              " \"call you/carlo is/ar here, phone' vibrat act might hear text\",\n",
              " 'romant paris. 2 nights, 2 flight å£79 book 4 next year. call 08704439680ts&c apply.',\n",
              " 'grandmas. oh dear, u still ill? felt shit morn think hungover! anoth night then. leav sat.',\n",
              " 'urgent ur å£500 guarante award still unclaimed! call 09066368327 closingdate04/09/02 claimcod m39m51 å£1.50pmmorefrommobile2bremoved-mobypobox734ls27yf',\n",
              " 'noth ju tot u would ask co u ba gua... went mt faber yest... yest ju went alreadi mah today go out... ju call lor...',\n",
              " 'wish famili merri \\\\x\\\\\" ma happi new year advance..\"',\n",
              " 'ur award citi break could win å£200 summer shop spree everi wk. txt store 88039 . skilgme. tscs087147403231winawk!age16 å£1.50perwksub',\n",
              " \"i'm nt goin, got somethin on, unless meetin 4 dinner lor... haha, wonder go ti time...\",\n",
              " \"sorry, i'll call later\",\n",
              " 'cant pick phone right now. pl send messag',\n",
              " \"lol know! they'r dramatic. school alreadi close tomorrow. appar can't drive inch snow suppos get.\",\n",
              " 'get anywher damn job hunt here!',\n",
              " 'lol! u drunkard! hair moment. yeah still 4 tonight. wat plan?',\n",
              " 'idc get here, weasel way shit twice row',\n",
              " 'wil &lt;#&gt; minutes. got space',\n",
              " 'sleeping..and surf',\n",
              " 'thank pick trash.',\n",
              " 'go tell friend sure want live smoke much spend hour beg come smoke',\n",
              " '\\\\hi kate love see tonight ill phone tomorrow. got sing guy gave card! xxx\\\\\"\"',\n",
              " 'happi new year dear brother. realli miss you. got number decid send text wish happiness. abiola',\n",
              " 'mean get door',\n",
              " 'opinion me? 1. 2. jada 3. kusruthi 4. lovabl 5. silent 6. spl charact 7. matur 8. stylish 9. simpl pl reply..',\n",
              " 'hmmm ... thought said 2 hour slave, 3 ... late ... punish ?',\n",
              " 'beerage?',\n",
              " 'import custom servic announc premier. call freephon 0800 542 0578 now!',\n",
              " 'dont think so. turn like randomlli within 5min open',\n",
              " 'suppos make it, still town though',\n",
              " 'own. time fix spelling. sometim get complet diff word. go figur',\n",
              " 'ever thought live good life perfect partner? txt back name age join mobil community. (100p/sms)',\n",
              " '5 free top polyphon tone call 087018728737, nation rate. get toppoli tune sent everi week, text subpoli 81618, å£3 per pole. unsub 08718727870.',\n",
              " 'gud mrng dear hav nice day',\n",
              " \"hope enjoy game yesterday. sorri i'v touch pl know fondli bein thot off. great week. abiola\",\n",
              " 'e best 4 ur drive tmr :-)',\n",
              " 'y?where u dogbreath? sound like jan c thatåõ al!!!!!!!!!',\n",
              " 'omg want scream. weigh lost weight! woohoo!',\n",
              " 'gener one. uncount noun - u dictionary. piec research?',\n",
              " 'realli get hang around.',\n",
              " \"orang customer, may claim free camera phone upgrad loyalty. call 0207 153 9996. offer end 14thmarch. t&c' apply. opt-out availa\",\n",
              " '\\\\petey boy wherear friendsar thekingshead come canlov nic\\\\\"\"',\n",
              " 'ok msg u b4 leav house.',\n",
              " '\\\\gimm few\\\\\" &lt;#&gt; minut ago\"',\n",
              " 'last chance! claim ur å£150 worth discount voucher today! text shop 85023 now! savamob, offer mobile! cs savamob pobox84, m263uz. å£3.00 sub. 16',\n",
              " 'appt &lt;time&gt; am. fault u listen. told u twice',\n",
              " 'free 1st week! no1 nokia tone 4 ur mobil everi week txt nokia 8077 get txting tell ur mates. www.getzed.co.uk pobox 36504 w45wq 16+ norm150p/ton',\n",
              " 'guarante å£200 award even å£1000 cashto claim ur award call free 08000407165 (18+) 2 stop getstop 88222 php. rg21 4jx',\n",
              " \"k i'll 4.\",\n",
              " 'dled 3d imp',\n",
              " \"sure, make sure know ain't smokin yet\",\n",
              " 'boooo alway work. quit.',\n",
              " 'take half day leav bec well',\n",
              " 'ugh wanna get bed. warm.',\n",
              " 's:)s.nervou &lt;#&gt; :)',\n",
              " \"there' ring come guy costumes. gift futur yowifes. hint hint\",\n",
              " 'congratul ur award either å£500 cd gift voucher & free entri 2 å£100 weekli draw txt music 87066 tnc www.ldew.com1win150ppmx3age16',\n",
              " 'borrow ur bag ok.',\n",
              " 'u outbid simonwatson5120 shinco dvd plyr. 2 bid again, visit sms. ac/smsreward 2 end bid notifications, repli end',\n",
              " \"where' boytoy? miss ... happened?\",\n",
              " \"lot use one babe, model help. youi bring he'll match\",\n",
              " 'also bring galileo dobbi',\n",
              " 'respond',\n",
              " '\\\\boo babe! u enjoyin yourjob? u seem 2 b gettin well hunny!hop ure ok?tak care & iåõllspeak 2u soonlot lovem xxxx.\\\\\"\"',\n",
              " \"good afternoon starshine! how' boytoy? crave yet? ach fuck ? *sip cappuccino* miss babe *teas kiss*\",\n",
              " 'road cant txt',\n",
              " 'smsservices. yourinclus text credits, pl goto www.comuk.net login= 3qxj9 unsubscrib stop, extra charge. help 08702840625.comuk. 220-cm2 9ae',\n",
              " \"25p 4 alfi moon' children need song ur mob. tell ur m8s. txt tone chariti 8007 nokia poli chariti polys: zed 08701417012 profit 2 charity.\",\n",
              " 'good evening! ttyl',\n",
              " 'hmm .. bit piec lol ... *sighs* ...',\n",
              " 'hahaha..us brain dear',\n",
              " 'hey. got mail?',\n",
              " 'sorri light turn green, meant anoth friend want &lt;#&gt; worth may around',\n",
              " 'thank yesterday sir. wonderful. hope enjoy burial. mojibiola',\n",
              " 'u secret admirer. reveal think u r special. call 09065174042. opt repli reveal stop. 1.50 per msg recd. cust care 07821230901',\n",
              " 'hi mate rv u hav nice hol messag 3 say hello coz havenåõt sent u 1 age start drive stay roads!rvx',\n",
              " 'dear voucher holder, claim week offer, pc pleas go http://www.e-tlp.co.uk/expressoff ts&c apply. stop texts, txt stop 80062',\n",
              " \"thank much. skype wit kz sura, didnt get pleasur company. hope good. we'v given ultimatum oh! countin aburo. enjoy! messag sent day ago\",\n",
              " 'sure result offer:)',\n",
              " 'good morn dear........... great &amp; success day.',\n",
              " 'want 750 anytim network min 150 text new video phone five pound per week call 08002888812 repli deliveri tomorrow',\n",
              " \"sir, late pay rent past month pay $ &lt;#&gt; charge. felt would inconsider nag someth give great cost that' didnt speak up. howev recess wont abl pay charg month henc askin well ahead month' end. pleas help. thank\",\n",
              " 'tri contact offer new video phone 750 anytim network min half price rental camcord call 08000930705 repli deliveri wed',\n",
              " 'last chanc 2 claim ur å£150 worth discount vouchers-text ye 85023 now!savamob-memb offer mobil cs 08717898035. å£3.00 sub. 16 . remov txt x stop',\n",
              " 'luv u soo much u donåõt understand special u r 2 ring u 2morrow luv u xxx',\n",
              " \"pl send comprehens mail i'm paying, much.\",\n",
              " \"prashanthettan' mother pass away last night. pray family.\",\n",
              " 'urgent! call 09066350750 landline. complimentari 4* ibiza holiday 10,000 cash await collect sae t&c po box 434 sk3 8wp 150 ppm 18+',\n",
              " 'k.k:)when going?',\n",
              " \"meanwhil shit suite: xavier decid give us &lt;#&gt; second warn samantha come play jay' guitar impress shit. also think doug realiz live anymor\",\n",
              " \"stomach thru much trauma swear can't eat. better lose weight.\",\n",
              " 'office:)what matter..msg now.i call break:).',\n",
              " \"yeah there' bare enough room two us, x mani fuck shoes. sorri man, see later\",\n",
              " \"today' offer! claim ur å£150 worth discount vouchers! text ye 85023 now! savamob, member offer mobile! cs 08717898035. å£3.00 sub. 16 . unsub repli x\",\n",
              " 'u reach orchard already? u wan 2 go buy ticket first?',\n",
              " 'real, baby! want bring inner tigress...',\n",
              " 'da run activ full version da.',\n",
              " '\\\\ah poor baby!hop urfeel bettersn luv! probthat overdos work hey go care spk 2 u sn lot lovejen xxx.\\\\\"\"',\n",
              " \"stop story. i'v told i'v return he' say order it.\",\n",
              " 'talk sexy!! make new friend fall love world discreet text date service. text vip 83110 see could meet.',\n",
              " 'go take babe ?',\n",
              " 'hai ana tomarrow come morning. &lt;decimal&gt; ill sathi go rto office. repli came home.',\n",
              " 'spoon okay?',\n",
              " 'say somebodi name tampa',\n",
              " 'work now. go min.',\n",
              " 'brother geniu',\n",
              " \"sorry, guess whenev get hold connections, mayb hour two? i'll text\",\n",
              " 'u find time bu coz need sort stuff out.',\n",
              " 'dude ive see lotta corvett late',\n",
              " 'congratul ur award either yr suppli cd virgin record mysteri gift guarante call 09061104283 ts&c www.smsco.net å£1.50pm approx 3min',\n",
              " 'here, consid wall bunker shit import never play peac guess place high enough matter',\n",
              " 'private! 2003 account statement 07808 xxxxxx show 800 un-redeem s. i. m. points. call 08719899217 identifi code: 41685 expir 07/11/04',\n",
              " 'hello. need posh bird chap user trial prod champneys. put down? need address dob asap. ta r',\n",
              " 'u want xmas? 100 free text messag & new video phone half price line rental? call free 0800 0721072 find more!',\n",
              " 'well offici philosoph hole, u wanna call home readi saved!',\n",
              " 'go good...no problem..but still need littl experi understand american custom voice...',\n",
              " \"i'll text drop x\",\n",
              " \"ugh long day. i'm exhausted. want cuddl take nap\",\n",
              " 'talk atleast day...!!! otherwis miss best friend world...!!! -shakespeare- shesil &lt;#&gt;',\n",
              " 'shop till u drop, you, either 10k, 5k, å£500 cash å£100 travel voucher, call now, 09064011000. ntt po box cr01327bt fixedlin cost 150ppm mobil vari',\n",
              " 'castor? need see someth',\n",
              " 'sunshin quiz wkli q! win top soni dvd player u know countri liverpool play mid week? txt ansr 82277. å£1.50 sp:tyron',\n",
              " 'u secret admir look 2 make contact u-find r*reveal think ur special-cal 09058094565',\n",
              " 'u secret admir look 2 make contact u-find r*reveal think ur special-cal 09065171142-stopsms-08',\n",
              " 'reminder: download content alreadi paid for. goto http://doit. mymoby. tv/ collect content.',\n",
              " \"see, knew give break time woul lead alway want miss curfew. gonna gibe 'til one, midnight movi gonna get til 2. need come home. need getsleep and, anything, need b studdi ear training.\",\n",
              " 'love give massages. use lot babi oil... fave position?',\n",
              " 'dude go sup',\n",
              " 'yoyyooo u know chang permiss drive mac. usb flash drive',\n",
              " 'gibb unsold.mik hussey',\n",
              " 'like talk pa abl to. dont know y.',\n",
              " 'dun cut short leh. u dun like ah? failed. quit sad.',\n",
              " 'unbeliev faglord',\n",
              " 'wife.how knew time murder exactli',\n",
              " 'ask princess?',\n",
              " 'great princess! think me? :)',\n",
              " 'nutter. cutter. ctter. cttergg. cttargg. ctargg. ctagg. ie',\n",
              " \"ok noe u'r busi i'm realli bore msg u. oso dunno wat colour choos 4 one.\",\n",
              " 'g class earli tomorrow thu tri smoke &lt;#&gt;',\n",
              " 'superb thought- \\\\be grate u dont everyth u want. mean u still opportun happier tomorrow u today.\\\\\":-)\"',\n",
              " 'hope good week. check',\n",
              " \"i'm use it. hope agent drop sinc i'v book thing year. whole boston, nyc experiment.\",\n",
              " \"thursday night? yeah, sure thing, we'll work\",\n",
              " 'free rington wait collected. simpli text password \\\\mix\\\\\" 85069 verify. get usher britney. fml',\n",
              " 'probabl money worries. thing come due sever outstand invoic work two three month ago.',\n",
              " 'possibl teach you. where.',\n",
              " 'wonder phone batteri went dead ? tell you, love babe',\n",
              " \"love smell bu ain't tobacco...\",\n",
              " \"we'r get worri here, derek taylor alreadi assum worst\",\n",
              " \"hey what' charl sorri late reply.\",\n",
              " 'lastest stereophonics, marley, dizze racal, libertin strokes! win nookii game flirt!! click themob wap bookmark text wap 82468',\n",
              " 'i.ll give it. plu said grinul greet whenev speak',\n",
              " 'white fudg oreo store',\n",
              " 'januari male sale! hot gay chat cheaper, call 08709222922. nation rate 1.5p/min cheap 7.8p/min peak! stop text call 08712460324 (10p/min)',\n",
              " \"love ! come took long leav zaher's? got word ym happi see sad left. miss\",\n",
              " 'sorri hurt you.',\n",
              " \"can't. feel nauseous. i'm pissed. eat sweet week caus today plan pig out. diet week. i'm hungri :/\",\n",
              " 'ok lor early. still project meet now.',\n",
              " 'call da, wait call.',\n",
              " 'could ask carlo could get anybodi els chip',\n",
              " 'actual send remind today. wonder weekend',\n",
              " \"peopl see msgs, think iam addict msging... wrong, bcoz don\\\\'t know iam addict sweet friends..!! bslvyl\",\n",
              " 'hey gave photo regist drive ah? tmr wanna meet yck?',\n",
              " 'dont talk ever ok word.',\n",
              " 'u wana see',\n",
              " \"way school. pl send ashley' number\",\n",
              " 'shall fine. avalarr now. hollalat',\n",
              " \"went attend anoth two round today..but still did't reach home..\",\n",
              " 'actual delet old website..now blog magicalsongs.blogspot.com',\n",
              " 'k, wait chikku..il send aftr &lt;#&gt; min',\n",
              " \"i'm diet. ate 1 mani slice pizza yesterday. ugh i'm alway diet.\",\n",
              " 'k:)i give kvb acc details:)',\n",
              " 'oh come ah?',\n",
              " 'money!!! r lucki winner ! 2 claim prize text money 2 88600 å£1million give away ! ppt150x3+normal text rate box403 w1t1ji',\n",
              " \"i'm realli sorri b abl 2 friday.hop u find alternative.hop yr term' go ok:-)\",\n",
              " 'congratul ore mo owo wa. enjoy wish mani happi moment fro wherev go',\n",
              " 'samu shoulder yet',\n",
              " 'time think it? need know near campu',\n",
              " 'dear matthew pleas call 09063440451 landline, complimentari 4*lux tenerif holiday å£1000 cash await collection. ppm150 sae t&c box334 sk38xh.',\n",
              " 'dun wear jean lor...',\n",
              " 'sinc when, side, fever, vomitin.',\n",
              " 'k:)k.are college?',\n",
              " 'urgent! call 09061749602 landline. complimentari 4* tenerif holiday å£10,000 cash await collect sae t&c box 528 hp20 1yf 150ppm 18+',\n",
              " 'better. made friday stuf like pig yesterday. feel bleh. least writh pain kind bleh.',\n",
              " \"sell we'll ton coins. sell coin someon thru paypal. voila! money back life pockets:)\",\n",
              " 'theyr lot places. hospit medic place safe.',\n",
              " 'get touch folk wait company? txt back name age opt in! enjoy commun (150p/sms)',\n",
              " \"also i'v sorta blown coupl time recent id rather text blue look weed\",\n",
              " 'sent score sopha secondari applic schools. think think applying, research cost also. contact joke ogunrinde, school one less expens one',\n",
              " 'cant wait see you! photo useful? :)',\n",
              " 'ur cash-bal current 500 pound - maxim ur cash-in send go 86688 150p/msg. cc: 08718720201 po box 114/14 tcr/w1',\n",
              " 'hey book kb sat already... lesson go ah? keep sat night free need meet confirm lodg',\n",
              " 'chk ur belovd ms dict',\n",
              " 'time want come?',\n",
              " 'awesome, lemm know whenev around',\n",
              " 'shb b ok lor... thanx...',\n",
              " 'beauti truth gravity.. read carefully: \\\\our heart feel light someon it.. feel heavi someon leav it..\\\\\" good night\"',\n",
              " \"also rememb get dobby' bowl car\",\n",
              " 'filthi stori girl wait',\n",
              " \"sorri c ur msg... yar lor poor thing... 4 one night... tmr u'll brand new room 2 sleep in...\",\n",
              " 'love decision, feeling. could decid love, then, life would much simpler, less magic',\n",
              " 'welp appar retir',\n",
              " \"sort code acc . bank natwest. repli confirm i'v sent right person!\",\n",
              " '@',\n",
              " \"u sure u can't take sick time?\",\n",
              " 'urgent! tri contact u. today draw show å£800 prize guaranteed. call 09050001808 land line. claim m95. valid12hr',\n",
              " 'watch cartoon, listen music &amp; eve go templ &amp; church.. u?',\n",
              " 'yo chad gymnast class wanna take? site say christian class full..',\n",
              " 'much buzi',\n",
              " 'better still catch let ask sell &lt;#&gt; me.',\n",
              " 'sure night menu. . . know noon menu',\n",
              " 'u want come back?.a beauti necklac token heart you.that give wife liking.b see..no one give that.dont call me.i wait till come.',\n",
              " 'will go aptitud class.',\n",
              " 'wont b 2.15 tri 2 sort hous out, ok?',\n",
              " 'yar lor wan 2 go c hors race today mah, eat earlier lor. ate chicken rice. u?',\n",
              " 'haha awesome, omw back',\n",
              " 'yup thk e shop close lor.',\n",
              " 'account number?',\n",
              " 'eh u send wrongli lar...',\n",
              " 'hey ad crap nite borin without ya 2 boggi u bore biatch! thanx u wait til nxt time il ave ya',\n",
              " 'ok shall talk',\n",
              " 'dont hesitate. know second time weak like that. keep notebook eat day anyth chang day sure noth',\n",
              " 'hey pay. salari de. &lt;#&gt; .',\n",
              " 'anoth month. need chocol weed alcohol.',\n",
              " 'start search get job days.h great potenti talent.',\n",
              " 'reckon need town eightish walk * carpark.',\n",
              " 'congrats! 2 mobil 3g videophon r yours. call 09063458130 now! videochat wid mates, play java games, dload polyph music, nolin rentl.',\n",
              " 'look fuckin time. fuck think',\n",
              " 'yo guess drop',\n",
              " \"carlo say he'll mu &lt;#&gt; minut\",\n",
              " \"i'm offic . call &lt;#&gt; min:)\",\n",
              " \"geeee ... miss already, know ? think about. fuck, can't wait till next year togeth ... *love kiss*\",\n",
              " 'yun ah.th ubi one say ì_ wan call tomorrow.cal 67441233 look irene.er got bus8,22,65,61,66,382. ubi cres,ubi tech park.6ph 1st 5wkg days.ì¬n',\n",
              " 'ugh. gotta drive back sd la. butt sore.',\n",
              " '26th juli',\n",
              " 'hi im relax time ever! get 7am everi day! parti good night? get home tomorrow 5ish.',\n",
              " 'ì_... ìï wan come come lor... din c stripe skirt...',\n",
              " 'xma stori peace.. xma msg love.. xma miracl jesus.. hav bless month ahead &amp; wish u merri xmas...',\n",
              " \"can't, number!\",\n",
              " 'chang again... e one next escalator...',\n",
              " \"yetund i'm class run water make ok. pl now.\",\n",
              " 'lot happen here. feel quiet. beth aunt charli work lots. helen mo. been?',\n",
              " 'ì_ wait 4 bu stop aft ur lect lar. dun c ì_ go get car come back n pick ì_.',\n",
              " 'aight do, thank comin',\n",
              " ...]"
            ]
          },
          "metadata": {},
          "execution_count": 14
        }
      ],
      "source": [
        "corpus"
      ]
    },
    {
      "cell_type": "code",
      "execution_count": 15,
      "metadata": {
        "id": "0wV8AIKDjjug"
      },
      "outputs": [],
      "source": [
        "from sklearn.feature_extraction.text import CountVectorizer\n",
        "cv = CountVectorizer(max_features=35000)\n",
        "x =cv.fit_transform(corpus).toarray()"
      ]
    },
    {
      "cell_type": "code",
      "execution_count": 16,
      "metadata": {
        "id": "8uPxal-yLs_k"
      },
      "outputs": [],
      "source": [
        "y = pd.get_dummies(df['label'])\n",
        "y = y.iloc[:, 1].values"
      ]
    },
    {
      "cell_type": "code",
      "execution_count": 17,
      "metadata": {
        "id": "tY_xhHoMkH64"
      },
      "outputs": [],
      "source": [
        "import pickle\n",
        "pickle.dump(cv, open('cv1.pkl','wb'))"
      ]
    },
    {
      "cell_type": "code",
      "execution_count": 18,
      "metadata": {
        "id": "BQB5viVTLVYB"
      },
      "outputs": [],
      "source": [
        "from sklearn.model_selection import train_test_split\n",
        "x_train, x_test, y_train, y_test = train_test_split(x, y, test_size=0.20, random_state=0)"
      ]
    },
    {
      "cell_type": "code",
      "execution_count": 19,
      "metadata": {
        "colab": {
          "base_uri": "https://localhost:8080/"
        },
        "id": "3RStzqCsMHwK",
        "outputId": "dabcdf26-bc27-4859-b448-d74e6d538708"
      },
      "outputs": [
        {
          "output_type": "stream",
          "name": "stdout",
          "text": [
            "Before OverSampling, counts of label '1': 581\n",
            "Before OverSampling, counts of label '0': 3876  \n",
            "\n",
            "After OverSampling, the shape of train_x: (7752, 8194)\n",
            "After OverSampling, the shape of train_y: (7752,) \n",
            "\n",
            "After OverSampling, counts of label '1': 581\n",
            "After OverSampling, counts of label '0': 3876\n"
          ]
        }
      ],
      "source": [
        "print(\"Before OverSampling, counts of label '1': {}\".format(sum(y_train == 1)))\n",
        "print(\"Before OverSampling, counts of label '0': {}  \\n\".format(sum(y_train == 0)))\n",
        "\n",
        "from imblearn.over_sampling import SMOTE\n",
        "sm = SMOTE(random_state = 2)\n",
        "x_train_res, y_train_res = sm.fit_resample(x_train, y_train.ravel())\n",
        "\n",
        "print('After OverSampling, the shape of train_x: {}'.format(x_train_res.shape))\n",
        "print('After OverSampling, the shape of train_y: {} \\n'.format(y_train_res.shape))\n",
        "\n",
        "print(\"After OverSampling, counts of label '1': {}\".format(sum(y_train == 1)))\n",
        "print(\"After OverSampling, counts of label '0': {}\".format(sum(y_train == 0)))\n",
        "\n",
        "\n"
      ]
    },
    {
      "cell_type": "code",
      "execution_count": 20,
      "metadata": {
        "colab": {
          "base_uri": "https://localhost:8080/",
          "height": 300
        },
        "id": "9rqgZWg9GADR",
        "outputId": "f53f14bf-edae-420f-f022-044905959844"
      },
      "outputs": [
        {
          "output_type": "execute_result",
          "data": {
            "text/plain": [
              "             label\n",
              "count  5572.000000\n",
              "mean      0.134063\n",
              "std       0.340751\n",
              "min       0.000000\n",
              "25%       0.000000\n",
              "50%       0.000000\n",
              "75%       0.000000\n",
              "max       1.000000"
            ],
            "text/html": [
              "\n",
              "  <div id=\"df-eaecfd5b-db9f-4c11-b67a-6237532cb244\">\n",
              "    <div class=\"colab-df-container\">\n",
              "      <div>\n",
              "<style scoped>\n",
              "    .dataframe tbody tr th:only-of-type {\n",
              "        vertical-align: middle;\n",
              "    }\n",
              "\n",
              "    .dataframe tbody tr th {\n",
              "        vertical-align: top;\n",
              "    }\n",
              "\n",
              "    .dataframe thead th {\n",
              "        text-align: right;\n",
              "    }\n",
              "</style>\n",
              "<table border=\"1\" class=\"dataframe\">\n",
              "  <thead>\n",
              "    <tr style=\"text-align: right;\">\n",
              "      <th></th>\n",
              "      <th>label</th>\n",
              "    </tr>\n",
              "  </thead>\n",
              "  <tbody>\n",
              "    <tr>\n",
              "      <th>count</th>\n",
              "      <td>5572.000000</td>\n",
              "    </tr>\n",
              "    <tr>\n",
              "      <th>mean</th>\n",
              "      <td>0.134063</td>\n",
              "    </tr>\n",
              "    <tr>\n",
              "      <th>std</th>\n",
              "      <td>0.340751</td>\n",
              "    </tr>\n",
              "    <tr>\n",
              "      <th>min</th>\n",
              "      <td>0.000000</td>\n",
              "    </tr>\n",
              "    <tr>\n",
              "      <th>25%</th>\n",
              "      <td>0.000000</td>\n",
              "    </tr>\n",
              "    <tr>\n",
              "      <th>50%</th>\n",
              "      <td>0.000000</td>\n",
              "    </tr>\n",
              "    <tr>\n",
              "      <th>75%</th>\n",
              "      <td>0.000000</td>\n",
              "    </tr>\n",
              "    <tr>\n",
              "      <th>max</th>\n",
              "      <td>1.000000</td>\n",
              "    </tr>\n",
              "  </tbody>\n",
              "</table>\n",
              "</div>\n",
              "      <button class=\"colab-df-convert\" onclick=\"convertToInteractive('df-eaecfd5b-db9f-4c11-b67a-6237532cb244')\"\n",
              "              title=\"Convert this dataframe to an interactive table.\"\n",
              "              style=\"display:none;\">\n",
              "        \n",
              "  <svg xmlns=\"http://www.w3.org/2000/svg\" height=\"24px\"viewBox=\"0 0 24 24\"\n",
              "       width=\"24px\">\n",
              "    <path d=\"M0 0h24v24H0V0z\" fill=\"none\"/>\n",
              "    <path d=\"M18.56 5.44l.94 2.06.94-2.06 2.06-.94-2.06-.94-.94-2.06-.94 2.06-2.06.94zm-11 1L8.5 8.5l.94-2.06 2.06-.94-2.06-.94L8.5 2.5l-.94 2.06-2.06.94zm10 10l.94 2.06.94-2.06 2.06-.94-2.06-.94-.94-2.06-.94 2.06-2.06.94z\"/><path d=\"M17.41 7.96l-1.37-1.37c-.4-.4-.92-.59-1.43-.59-.52 0-1.04.2-1.43.59L10.3 9.45l-7.72 7.72c-.78.78-.78 2.05 0 2.83L4 21.41c.39.39.9.59 1.41.59.51 0 1.02-.2 1.41-.59l7.78-7.78 2.81-2.81c.8-.78.8-2.07 0-2.86zM5.41 20L4 18.59l7.72-7.72 1.47 1.35L5.41 20z\"/>\n",
              "  </svg>\n",
              "      </button>\n",
              "      \n",
              "  <style>\n",
              "    .colab-df-container {\n",
              "      display:flex;\n",
              "      flex-wrap:wrap;\n",
              "      gap: 12px;\n",
              "    }\n",
              "\n",
              "    .colab-df-convert {\n",
              "      background-color: #E8F0FE;\n",
              "      border: none;\n",
              "      border-radius: 50%;\n",
              "      cursor: pointer;\n",
              "      display: none;\n",
              "      fill: #1967D2;\n",
              "      height: 32px;\n",
              "      padding: 0 0 0 0;\n",
              "      width: 32px;\n",
              "    }\n",
              "\n",
              "    .colab-df-convert:hover {\n",
              "      background-color: #E2EBFA;\n",
              "      box-shadow: 0px 1px 2px rgba(60, 64, 67, 0.3), 0px 1px 3px 1px rgba(60, 64, 67, 0.15);\n",
              "      fill: #174EA6;\n",
              "    }\n",
              "\n",
              "    [theme=dark] .colab-df-convert {\n",
              "      background-color: #3B4455;\n",
              "      fill: #D2E3FC;\n",
              "    }\n",
              "\n",
              "    [theme=dark] .colab-df-convert:hover {\n",
              "      background-color: #434B5C;\n",
              "      box-shadow: 0px 1px 3px 1px rgba(0, 0, 0, 0.15);\n",
              "      filter: drop-shadow(0px 1px 2px rgba(0, 0, 0, 0.3));\n",
              "      fill: #FFFFFF;\n",
              "    }\n",
              "  </style>\n",
              "\n",
              "      <script>\n",
              "        const buttonEl =\n",
              "          document.querySelector('#df-eaecfd5b-db9f-4c11-b67a-6237532cb244 button.colab-df-convert');\n",
              "        buttonEl.style.display =\n",
              "          google.colab.kernel.accessAllowed ? 'block' : 'none';\n",
              "\n",
              "        async function convertToInteractive(key) {\n",
              "          const element = document.querySelector('#df-eaecfd5b-db9f-4c11-b67a-6237532cb244');\n",
              "          const dataTable =\n",
              "            await google.colab.kernel.invokeFunction('convertToInteractive',\n",
              "                                                     [key], {});\n",
              "          if (!dataTable) return;\n",
              "\n",
              "          const docLinkHtml = 'Like what you see? Visit the ' +\n",
              "            '<a target=\"_blank\" href=https://colab.research.google.com/notebooks/data_table.ipynb>data table notebook</a>'\n",
              "            + ' to learn more about interactive tables.';\n",
              "          element.innerHTML = '';\n",
              "          dataTable['output_type'] = 'display_data';\n",
              "          await google.colab.output.renderOutput(dataTable, element);\n",
              "          const docLink = document.createElement('div');\n",
              "          docLink.innerHTML = docLinkHtml;\n",
              "          element.appendChild(docLink);\n",
              "        }\n",
              "      </script>\n",
              "    </div>\n",
              "  </div>\n",
              "  "
            ]
          },
          "metadata": {},
          "execution_count": 20
        }
      ],
      "source": [
        " df.describe()"
      ]
    },
    {
      "cell_type": "code",
      "execution_count": 21,
      "metadata": {
        "colab": {
          "base_uri": "https://localhost:8080/"
        },
        "id": "MRseDLK3GbL6",
        "outputId": "723271fb-e3f6-40ff-eb85-bf8343e91876"
      },
      "outputs": [
        {
          "output_type": "execute_result",
          "data": {
            "text/plain": [
              "(5572, 5)"
            ]
          },
          "metadata": {},
          "execution_count": 21
        }
      ],
      "source": [
        " df.shape"
      ]
    },
    {
      "cell_type": "code",
      "execution_count": 22,
      "metadata": {
        "colab": {
          "base_uri": "https://localhost:8080/",
          "height": 496
        },
        "id": "NZ9OlnM-IFM-",
        "outputId": "f0f1a316-00f3-4239-9415-01292e74e2d5"
      },
      "outputs": [
        {
          "output_type": "display_data",
          "data": {
            "text/plain": [
              "<Figure size 1200x600 with 1 Axes>"
            ],
            "image/png": "[encoded data removed]"
          },
          "metadata": {}
        }
      ],
      "source": [
        " df[\"label\"].value_counts().plot(kind=\"bar\",figsize=(12,6))\n",
        " plt.xticks(np.arange(2),  ('Non spam', 'spam'),rotation=0);\n"
      ]
    },
    {
      "cell_type": "code",
      "execution_count": 23,
      "metadata": {
        "id": "n76Hs4U4KCe0"
      },
      "outputs": [],
      "source": [
        " from sklearn.model_selection import train_test_split\n",
        " x_train, x_test, y_train, y_test = train_test_split(x, y, test_size=0.20, random_state=0)"
      ]
    },
    {
      "cell_type": "code",
      "execution_count": 24,
      "metadata": {
        "id": "cddpbb-0NjHc"
      },
      "outputs": [],
      "source": [
        " from sklearn.tree import DecisionTreeClassifier"
      ]
    },
    {
      "cell_type": "code",
      "execution_count": 25,
      "metadata": {
        "colab": {
          "base_uri": "https://localhost:8080/",
          "height": 75
        },
        "id": "Pihp-FdqN0dv",
        "outputId": "8b2cdee9-189d-4f7f-8e23-9c50a5b725b3"
      },
      "outputs": [
        {
          "output_type": "execute_result",
          "data": {
            "text/plain": [
              "DecisionTreeClassifier()"
            ],
            "text/html": [
              "<style>#sk-container-id-1 {color: black;background-color: white;}#sk-container-id-1 pre{padding: 0;}#sk-container-id-1 div.sk-toggleable {background-color: white;}#sk-container-id-1 label.sk-toggleable__label {cursor: pointer;display: block;width: 100%;margin-bottom: 0;padding: 0.3em;box-sizing: border-box;text-align: center;}#sk-container-id-1 label.sk-toggleable__label-arrow:before {content: \"▸\";float: left;margin-right: 0.25em;color: #696969;}#sk-container-id-1 label.sk-toggleable__label-arrow:hover:before {color: black;}#sk-container-id-1 div.sk-estimator:hover label.sk-toggleable__label-arrow:before {color: black;}#sk-container-id-1 div.sk-toggleable__content {max-height: 0;max-width: 0;overflow: hidden;text-align: left;background-color: #f0f8ff;}#sk-container-id-1 div.sk-toggleable__content pre {margin: 0.2em;color: black;border-radius: 0.25em;background-color: #f0f8ff;}#sk-container-id-1 input.sk-toggleable__control:checked~div.sk-toggleable__content {max-height: 200px;max-width: 100%;overflow: auto;}#sk-container-id-1 input.sk-toggleable__control:checked~label.sk-toggleable__label-arrow:before {content: \"▾\";}#sk-container-id-1 div.sk-estimator input.sk-toggleable__control:checked~label.sk-toggleable__label {background-color: #d4ebff;}#sk-container-id-1 div.sk-label input.sk-toggleable__control:checked~label.sk-toggleable__label {background-color: #d4ebff;}#sk-container-id-1 input.sk-hidden--visually {border: 0;clip: rect(1px 1px 1px 1px);clip: rect(1px, 1px, 1px, 1px);height: 1px;margin: -1px;overflow: hidden;padding: 0;position: absolute;width: 1px;}#sk-container-id-1 div.sk-estimator {font-family: monospace;background-color: #f0f8ff;border: 1px dotted black;border-radius: 0.25em;box-sizing: border-box;margin-bottom: 0.5em;}#sk-container-id-1 div.sk-estimator:hover {background-color: #d4ebff;}#sk-container-id-1 div.sk-parallel-item::after {content: \"\";width: 100%;border-bottom: 1px solid gray;flex-grow: 1;}#sk-container-id-1 div.sk-label:hover label.sk-toggleable__label {background-color: #d4ebff;}#sk-container-id-1 div.sk-serial::before {content: \"\";position: absolute;border-left: 1px solid gray;box-sizing: border-box;top: 0;bottom: 0;left: 50%;z-index: 0;}#sk-container-id-1 div.sk-serial {display: flex;flex-direction: column;align-items: center;background-color: white;padding-right: 0.2em;padding-left: 0.2em;position: relative;}#sk-container-id-1 div.sk-item {position: relative;z-index: 1;}#sk-container-id-1 div.sk-parallel {display: flex;align-items: stretch;justify-content: center;background-color: white;position: relative;}#sk-container-id-1 div.sk-item::before, #sk-container-id-1 div.sk-parallel-item::before {content: \"\";position: absolute;border-left: 1px solid gray;box-sizing: border-box;top: 0;bottom: 0;left: 50%;z-index: -1;}#sk-container-id-1 div.sk-parallel-item {display: flex;flex-direction: column;z-index: 1;position: relative;background-color: white;}#sk-container-id-1 div.sk-parallel-item:first-child::after {align-self: flex-end;width: 50%;}#sk-container-id-1 div.sk-parallel-item:last-child::after {align-self: flex-start;width: 50%;}#sk-container-id-1 div.sk-parallel-item:only-child::after {width: 0;}#sk-container-id-1 div.sk-dashed-wrapped {border: 1px dashed gray;margin: 0 0.4em 0.5em 0.4em;box-sizing: border-box;padding-bottom: 0.4em;background-color: white;}#sk-container-id-1 div.sk-label label {font-family: monospace;font-weight: bold;display: inline-block;line-height: 1.2em;}#sk-container-id-1 div.sk-label-container {text-align: center;}#sk-container-id-1 div.sk-container {/* jupyter's `normalize.less` sets `[hidden] { display: none; }` but bootstrap.min.css set `[hidden] { display: none !important; }` so we also need the `!important` here to be able to override the default hidden behavior on the sphinx rendered scikit-learn.org. See: https://github.com/scikit-learn/scikit-learn/issues/21755 */display: inline-block !important;position: relative;}#sk-container-id-1 div.sk-text-repr-fallback {display: none;}</style><div id=\"sk-container-id-1\" class=\"sk-top-container\"><div class=\"sk-text-repr-fallback\"><pre>DecisionTreeClassifier()</pre><b>In a Jupyter environment, please rerun this cell to show the HTML representation or trust the notebook. <br />On GitHub, the HTML representation is unable to render, please try loading this page with nbviewer.org.</b></div><div class=\"sk-container\" hidden><div class=\"sk-item\"><div class=\"sk-estimator sk-toggleable\"><input class=\"sk-toggleable__control sk-hidden--visually\" id=\"sk-estimator-id-1\" type=\"checkbox\" checked><label for=\"sk-estimator-id-1\" class=\"sk-toggleable__label sk-toggleable__label-arrow\">DecisionTreeClassifier</label><div class=\"sk-toggleable__content\"><pre>DecisionTreeClassifier()</pre></div></div></div></div></div>"
            ]
          },
          "metadata": {},
          "execution_count": 25
        }
      ],
      "source": [
        " model = DecisionTreeClassifier()\n",
        " model.fit(x_train_res, y_train_res)"
      ]
    },
    {
      "cell_type": "code",
      "execution_count": 26,
      "metadata": {
        "id": "EG0SmD0ajucS"
      },
      "outputs": [],
      "source": [
        " from sklearn.ensemble import  RandomForestClassifier"
      ]
    },
    {
      "cell_type": "code",
      "execution_count": 27,
      "metadata": {
        "colab": {
          "base_uri": "https://localhost:8080/",
          "height": 75
        },
        "id": "kSuvmAVDkFeR",
        "outputId": "baec810c-3459-4173-a6e0-b170a5579bac"
      },
      "outputs": [
        {
          "output_type": "execute_result",
          "data": {
            "text/plain": [
              "RandomForestClassifier()"
            ],
            "text/html": [
              "<style>#sk-container-id-2 {color: black;background-color: white;}#sk-container-id-2 pre{padding: 0;}#sk-container-id-2 div.sk-toggleable {background-color: white;}#sk-container-id-2 label.sk-toggleable__label {cursor: pointer;display: block;width: 100%;margin-bottom: 0;padding: 0.3em;box-sizing: border-box;text-align: center;}#sk-container-id-2 label.sk-toggleable__label-arrow:before {content: \"▸\";float: left;margin-right: 0.25em;color: #696969;}#sk-container-id-2 label.sk-toggleable__label-arrow:hover:before {color: black;}#sk-container-id-2 div.sk-estimator:hover label.sk-toggleable__label-arrow:before {color: black;}#sk-container-id-2 div.sk-toggleable__content {max-height: 0;max-width: 0;overflow: hidden;text-align: left;background-color: #f0f8ff;}#sk-container-id-2 div.sk-toggleable__content pre {margin: 0.2em;color: black;border-radius: 0.25em;background-color: #f0f8ff;}#sk-container-id-2 input.sk-toggleable__control:checked~div.sk-toggleable__content {max-height: 200px;max-width: 100%;overflow: auto;}#sk-container-id-2 input.sk-toggleable__control:checked~label.sk-toggleable__label-arrow:before {content: \"▾\";}#sk-container-id-2 div.sk-estimator input.sk-toggleable__control:checked~label.sk-toggleable__label {background-color: #d4ebff;}#sk-container-id-2 div.sk-label input.sk-toggleable__control:checked~label.sk-toggleable__label {background-color: #d4ebff;}#sk-container-id-2 input.sk-hidden--visually {border: 0;clip: rect(1px 1px 1px 1px);clip: rect(1px, 1px, 1px, 1px);height: 1px;margin: -1px;overflow: hidden;padding: 0;position: absolute;width: 1px;}#sk-container-id-2 div.sk-estimator {font-family: monospace;background-color: #f0f8ff;border: 1px dotted black;border-radius: 0.25em;box-sizing: border-box;margin-bottom: 0.5em;}#sk-container-id-2 div.sk-estimator:hover {background-color: #d4ebff;}#sk-container-id-2 div.sk-parallel-item::after {content: \"\";width: 100%;border-bottom: 1px solid gray;flex-grow: 1;}#sk-container-id-2 div.sk-label:hover label.sk-toggleable__label {background-color: #d4ebff;}#sk-container-id-2 div.sk-serial::before {content: \"\";position: absolute;border-left: 1px solid gray;box-sizing: border-box;top: 0;bottom: 0;left: 50%;z-index: 0;}#sk-container-id-2 div.sk-serial {display: flex;flex-direction: column;align-items: center;background-color: white;padding-right: 0.2em;padding-left: 0.2em;position: relative;}#sk-container-id-2 div.sk-item {position: relative;z-index: 1;}#sk-container-id-2 div.sk-parallel {display: flex;align-items: stretch;justify-content: center;background-color: white;position: relative;}#sk-container-id-2 div.sk-item::before, #sk-container-id-2 div.sk-parallel-item::before {content: \"\";position: absolute;border-left: 1px solid gray;box-sizing: border-box;top: 0;bottom: 0;left: 50%;z-index: -1;}#sk-container-id-2 div.sk-parallel-item {display: flex;flex-direction: column;z-index: 1;position: relative;background-color: white;}#sk-container-id-2 div.sk-parallel-item:first-child::after {align-self: flex-end;width: 50%;}#sk-container-id-2 div.sk-parallel-item:last-child::after {align-self: flex-start;width: 50%;}#sk-container-id-2 div.sk-parallel-item:only-child::after {width: 0;}#sk-container-id-2 div.sk-dashed-wrapped {border: 1px dashed gray;margin: 0 0.4em 0.5em 0.4em;box-sizing: border-box;padding-bottom: 0.4em;background-color: white;}#sk-container-id-2 div.sk-label label {font-family: monospace;font-weight: bold;display: inline-block;line-height: 1.2em;}#sk-container-id-2 div.sk-label-container {text-align: center;}#sk-container-id-2 div.sk-container {/* jupyter's `normalize.less` sets `[hidden] { display: none; }` but bootstrap.min.css set `[hidden] { display: none !important; }` so we also need the `!important` here to be able to override the default hidden behavior on the sphinx rendered scikit-learn.org. See: https://github.com/scikit-learn/scikit-learn/issues/21755 */display: inline-block !important;position: relative;}#sk-container-id-2 div.sk-text-repr-fallback {display: none;}</style><div id=\"sk-container-id-2\" class=\"sk-top-container\"><div class=\"sk-text-repr-fallback\"><pre>RandomForestClassifier()</pre><b>In a Jupyter environment, please rerun this cell to show the HTML representation or trust the notebook. <br />On GitHub, the HTML representation is unable to render, please try loading this page with nbviewer.org.</b></div><div class=\"sk-container\" hidden><div class=\"sk-item\"><div class=\"sk-estimator sk-toggleable\"><input class=\"sk-toggleable__control sk-hidden--visually\" id=\"sk-estimator-id-2\" type=\"checkbox\" checked><label for=\"sk-estimator-id-2\" class=\"sk-toggleable__label sk-toggleable__label-arrow\">RandomForestClassifier</label><div class=\"sk-toggleable__content\"><pre>RandomForestClassifier()</pre></div></div></div></div></div>"
            ]
          },
          "metadata": {},
          "execution_count": 27
        }
      ],
      "source": [
        " model = RandomForestClassifier()\n",
        " model.fit(x_train_res, y_train_res)"
      ]
    },
    {
      "cell_type": "code",
      "execution_count": 28,
      "metadata": {
        "id": "pAU4qsaekam_"
      },
      "outputs": [],
      "source": [
        " from sklearn.naive_bayes import MultinomialNB\n",
        " model = MultinomialNB()"
      ]
    },
    {
      "cell_type": "code",
      "execution_count": 29,
      "metadata": {
        "colab": {
          "base_uri": "https://localhost:8080/",
          "height": 75
        },
        "id": "di19o1QEk288",
        "outputId": "229b96c5-cf20-4a42-8edc-b31446796468"
      },
      "outputs": [
        {
          "output_type": "execute_result",
          "data": {
            "text/plain": [
              "MultinomialNB()"
            ],
            "text/html": [
              "<style>#sk-container-id-3 {color: black;background-color: white;}#sk-container-id-3 pre{padding: 0;}#sk-container-id-3 div.sk-toggleable {background-color: white;}#sk-container-id-3 label.sk-toggleable__label {cursor: pointer;display: block;width: 100%;margin-bottom: 0;padding: 0.3em;box-sizing: border-box;text-align: center;}#sk-container-id-3 label.sk-toggleable__label-arrow:before {content: \"▸\";float: left;margin-right: 0.25em;color: #696969;}#sk-container-id-3 label.sk-toggleable__label-arrow:hover:before {color: black;}#sk-container-id-3 div.sk-estimator:hover label.sk-toggleable__label-arrow:before {color: black;}#sk-container-id-3 div.sk-toggleable__content {max-height: 0;max-width: 0;overflow: hidden;text-align: left;background-color: #f0f8ff;}#sk-container-id-3 div.sk-toggleable__content pre {margin: 0.2em;color: black;border-radius: 0.25em;background-color: #f0f8ff;}#sk-container-id-3 input.sk-toggleable__control:checked~div.sk-toggleable__content {max-height: 200px;max-width: 100%;overflow: auto;}#sk-container-id-3 input.sk-toggleable__control:checked~label.sk-toggleable__label-arrow:before {content: \"▾\";}#sk-container-id-3 div.sk-estimator input.sk-toggleable__control:checked~label.sk-toggleable__label {background-color: #d4ebff;}#sk-container-id-3 div.sk-label input.sk-toggleable__control:checked~label.sk-toggleable__label {background-color: #d4ebff;}#sk-container-id-3 input.sk-hidden--visually {border: 0;clip: rect(1px 1px 1px 1px);clip: rect(1px, 1px, 1px, 1px);height: 1px;margin: -1px;overflow: hidden;padding: 0;position: absolute;width: 1px;}#sk-container-id-3 div.sk-estimator {font-family: monospace;background-color: #f0f8ff;border: 1px dotted black;border-radius: 0.25em;box-sizing: border-box;margin-bottom: 0.5em;}#sk-container-id-3 div.sk-estimator:hover {background-color: #d4ebff;}#sk-container-id-3 div.sk-parallel-item::after {content: \"\";width: 100%;border-bottom: 1px solid gray;flex-grow: 1;}#sk-container-id-3 div.sk-label:hover label.sk-toggleable__label {background-color: #d4ebff;}#sk-container-id-3 div.sk-serial::before {content: \"\";position: absolute;border-left: 1px solid gray;box-sizing: border-box;top: 0;bottom: 0;left: 50%;z-index: 0;}#sk-container-id-3 div.sk-serial {display: flex;flex-direction: column;align-items: center;background-color: white;padding-right: 0.2em;padding-left: 0.2em;position: relative;}#sk-container-id-3 div.sk-item {position: relative;z-index: 1;}#sk-container-id-3 div.sk-parallel {display: flex;align-items: stretch;justify-content: center;background-color: white;position: relative;}#sk-container-id-3 div.sk-item::before, #sk-container-id-3 div.sk-parallel-item::before {content: \"\";position: absolute;border-left: 1px solid gray;box-sizing: border-box;top: 0;bottom: 0;left: 50%;z-index: -1;}#sk-container-id-3 div.sk-parallel-item {display: flex;flex-direction: column;z-index: 1;position: relative;background-color: white;}#sk-container-id-3 div.sk-parallel-item:first-child::after {align-self: flex-end;width: 50%;}#sk-container-id-3 div.sk-parallel-item:last-child::after {align-self: flex-start;width: 50%;}#sk-container-id-3 div.sk-parallel-item:only-child::after {width: 0;}#sk-container-id-3 div.sk-dashed-wrapped {border: 1px dashed gray;margin: 0 0.4em 0.5em 0.4em;box-sizing: border-box;padding-bottom: 0.4em;background-color: white;}#sk-container-id-3 div.sk-label label {font-family: monospace;font-weight: bold;display: inline-block;line-height: 1.2em;}#sk-container-id-3 div.sk-label-container {text-align: center;}#sk-container-id-3 div.sk-container {/* jupyter's `normalize.less` sets `[hidden] { display: none; }` but bootstrap.min.css set `[hidden] { display: none !important; }` so we also need the `!important` here to be able to override the default hidden behavior on the sphinx rendered scikit-learn.org. See: https://github.com/scikit-learn/scikit-learn/issues/21755 */display: inline-block !important;position: relative;}#sk-container-id-3 div.sk-text-repr-fallback {display: none;}</style><div id=\"sk-container-id-3\" class=\"sk-top-container\"><div class=\"sk-text-repr-fallback\"><pre>MultinomialNB()</pre><b>In a Jupyter environment, please rerun this cell to show the HTML representation or trust the notebook. <br />On GitHub, the HTML representation is unable to render, please try loading this page with nbviewer.org.</b></div><div class=\"sk-container\" hidden><div class=\"sk-item\"><div class=\"sk-estimator sk-toggleable\"><input class=\"sk-toggleable__control sk-hidden--visually\" id=\"sk-estimator-id-3\" type=\"checkbox\" checked><label for=\"sk-estimator-id-3\" class=\"sk-toggleable__label sk-toggleable__label-arrow\">MultinomialNB</label><div class=\"sk-toggleable__content\"><pre>MultinomialNB()</pre></div></div></div></div></div>"
            ]
          },
          "metadata": {},
          "execution_count": 29
        }
      ],
      "source": [
        " model.fit(x_train_res, y_train_res)"
      ]
    },
    {
      "cell_type": "code",
      "execution_count": 30,
      "metadata": {
        "id": "GW1YE6mclAXU"
      },
      "outputs": [],
      "source": [
        "from tensorflow.keras.models import Sequential\n",
        "from tensorflow.keras.layers import Dense"
      ]
    },
    {
      "cell_type": "code",
      "execution_count": 31,
      "metadata": {
        "id": "gNNNX0-EpXQk"
      },
      "outputs": [],
      "source": [
        " model =  Sequential()"
      ]
    },
    {
      "cell_type": "code",
      "execution_count": 32,
      "metadata": {
        "colab": {
          "base_uri": "https://localhost:8080/"
        },
        "id": "EPeZoOk3qGdW",
        "outputId": "c7185250-8110-4b7b-9246-ae46a5de4a84"
      },
      "outputs": [
        {
          "output_type": "execute_result",
          "data": {
            "text/plain": [
              "(4457, 8194)"
            ]
          },
          "metadata": {},
          "execution_count": 32
        }
      ],
      "source": [
        " x_train.shape"
      ]
    },
    {
      "cell_type": "code",
      "execution_count": 33,
      "metadata": {
        "id": "cu29r6lUqmqD"
      },
      "outputs": [],
      "source": [
        " model.add(Dense(units = x_train_res.shape[1],activation=\"relu\",kernel_initializer=\"random_uniform\"))"
      ]
    },
    {
      "cell_type": "code",
      "execution_count": 34,
      "metadata": {
        "id": "sckgtRP7rLyx"
      },
      "outputs": [],
      "source": [
        " model.add(Dense(units =100,activation=\"relu\",kernel_initializer=\"random_uniform\"))"
      ]
    },
    {
      "cell_type": "code",
      "execution_count": 35,
      "metadata": {
        "id": "0wxWdtPcrozJ"
      },
      "outputs": [],
      "source": [
        " model.add(Dense(units=1,activation=\"sigmoid\"))"
      ]
    },
    {
      "cell_type": "code",
      "execution_count": 36,
      "metadata": {
        "id": "ysHkcS2Gr2rF"
      },
      "outputs": [],
      "source": [
        " model.compile(optimizer=\"adam\",loss=\"binary_crossentropy\",metrics=['accuracy'])"
      ]
    },
    {
      "cell_type": "code",
      "execution_count": 37,
      "metadata": {
        "colab": {
          "base_uri": "https://localhost:8080/"
        },
        "id": "C75SK1ntsWKt",
        "outputId": "6cbd61e3-f76d-479a-d0f9-df316224c731"
      },
      "outputs": [
        {
          "output_type": "stream",
          "name": "stdout",
          "text": [
            "Epoch 1/10\n",
            "121/121 [==============================] - 139s 1s/step - loss: 0.1178 - accuracy: 0.9675\n",
            "Epoch 2/10\n",
            "121/121 [==============================] - 126s 1s/step - loss: 0.0164 - accuracy: 0.9959\n",
            "Epoch 3/10\n",
            "121/121 [==============================] - 126s 1s/step - loss: 0.0089 - accuracy: 0.9982\n",
            "Epoch 4/10\n",
            "121/121 [==============================] - 123s 1s/step - loss: 0.0083 - accuracy: 0.9985\n",
            "Epoch 5/10\n",
            "121/121 [==============================] - 114s 945ms/step - loss: 0.0078 - accuracy: 0.9985\n",
            "Epoch 6/10\n",
            "121/121 [==============================] - 112s 926ms/step - loss: 0.0072 - accuracy: 0.9985\n",
            "Epoch 7/10\n",
            "121/121 [==============================] - 112s 928ms/step - loss: 0.0076 - accuracy: 0.9987\n",
            "Epoch 8/10\n",
            "121/121 [==============================] - 113s 935ms/step - loss: 0.0065 - accuracy: 0.9985\n",
            "Epoch 9/10\n",
            "121/121 [==============================] - 123s 1s/step - loss: 0.0089 - accuracy: 0.9987\n",
            "Epoch 10/10\n",
            "111/121 [==========================>...] - ETA: 9s - loss: 0.0063 - accuracy: 0.9989 "
          ]
        },
        {
          "output_type": "stream",
          "name": "stderr",
          "text": [
            "WARNING:tensorflow:Your input ran out of data; interrupting training. Make sure that your dataset or generator can generate at least `steps_per_epoch * epochs` batches (in this case, 1210 batches). You may need to use the repeat() function when building your dataset.\n"
          ]
        },
        {
          "output_type": "stream",
          "name": "stdout",
          "text": [
            "\b\b\b\b\b\b\b\b\b\b\b\b\b\b\b\b\b\b\b\b\b\b\b\b\b\b\b\b\b\b\b\b\b\b\b\b\b\b\b\b\b\b\b\b\b\b\b\b\b\b\b\b\b\b\b\b\b\b\b\b\b\b\b\b\b\b\b\b\b\b\b\b\b\b\b\b\b\b\b\b\b\b\b\b\r121/121 [==============================] - 103s 853ms/step - loss: 0.0063 - accuracy: 0.9989\n"
          ]
        }
      ],
      "source": [
        " generator = model.fit(x_train_res,y_train_res,epochs=10,steps_per_epoch=len(x_train_res)//64)"
      ]
    },
    {
      "cell_type": "code",
      "execution_count": 38,
      "metadata": {
        "colab": {
          "base_uri": "https://localhost:8080/"
        },
        "id": "39LMJUWNu5ga",
        "outputId": "db285015-5d64-40c1-edd8-e497008f97de"
      },
      "outputs": [
        {
          "output_type": "stream",
          "name": "stdout",
          "text": [
            "35/35 [==============================] - 3s 92ms/step\n"
          ]
        },
        {
          "output_type": "execute_result",
          "data": {
            "text/plain": [
              "array([[1.9948400e-10],\n",
              "       [1.7848400e-03],\n",
              "       [3.4924572e-13],\n",
              "       ...,\n",
              "       [3.0376623e-05],\n",
              "       [3.5189529e-15],\n",
              "       [1.3390812e-13]], dtype=float32)"
            ]
          },
          "metadata": {},
          "execution_count": 38
        }
      ],
      "source": [
        " y_pred=model.predict(x_test)\n",
        " y_pred"
      ]
    },
    {
      "cell_type": "code",
      "execution_count": 39,
      "metadata": {
        "id": "m3JPPSwZvGBt"
      },
      "outputs": [],
      "source": [
        " y_pr = np.where(y_pred>0.5,1,0)"
      ]
    },
    {
      "cell_type": "code",
      "execution_count": 40,
      "metadata": {
        "colab": {
          "base_uri": "https://localhost:8080/"
        },
        "id": "_TgwF96uvGGy",
        "outputId": "653a1b38-0cf6-408b-e19f-48518ecb2bda"
      },
      "outputs": [
        {
          "output_type": "execute_result",
          "data": {
            "text/plain": [
              "array([0, 0, 0, ..., 0, 0, 0], dtype=uint8)"
            ]
          },
          "metadata": {},
          "execution_count": 40
        }
      ],
      "source": [
        " y_test"
      ]
    },
    {
      "cell_type": "code",
      "execution_count": 41,
      "metadata": {
        "colab": {
          "base_uri": "https://localhost:8080/"
        },
        "id": "8RsCf-eEvTG8",
        "outputId": "69aad6c8-fa94-45df-bfff-9d85c5df17a9"
      },
      "outputs": [
        {
          "output_type": "stream",
          "name": "stdout",
          "text": [
            "[[933  16]\n",
            " [ 14 152]]\n",
            "Accuracy Score Is:-  97.30941704035875\n"
          ]
        }
      ],
      "source": [
        " from sklearn.metrics import confusion_matrix,accuracy_score\n",
        " cm = confusion_matrix(y_test, y_pr)\n",
        " score = accuracy_score(y_test,y_pr)\n",
        " print(cm)\n",
        " print('Accuracy Score Is:- ' ,score*100)"
      ]
    },
    {
      "cell_type": "code",
      "execution_count": 42,
      "metadata": {
        "colab": {
          "base_uri": "https://localhost:8080/"
        },
        "id": "FKks7VUjPoKc",
        "outputId": "5f89e438-bfda-4b8c-92f0-4ad34928c422"
      },
      "outputs": [
        {
          "output_type": "stream",
          "name": "stdout",
          "text": [
            "Enter new review...hello\n",
            "1/1 [==============================] - 0s 44ms/step\n",
            "[[0.98991776]]\n"
          ]
        }
      ],
      "source": [
        " def new_review(new_review):\n",
        "    new_review = new_review\n",
        "    new_review = re.sub('[^a-zA-Z]', ' ', new_review)\n",
        "    new_review = new_review.lower()\n",
        "    new_review = new_review.split()\n",
        "    ps = PorterStemmer()\n",
        "    all_stopwords = stopwords.words('english')\n",
        "    all_stopwords.remove('not')\n",
        "    new_review = [ps.stem(word) for word in new_review if not word in   set(all_stopwords)]\n",
        "    new_review = ' '.join(new_review)\n",
        "    new_corpus = [new_review]\n",
        "    new_X_test = cv.transform(new_corpus).toarray()\n",
        "    new_y_pred = model.predict(new_X_test)\n",
        "    print(new_y_pred)\n",
        "    new_X_pred = np.where(new_y_pred>0.5,1,0)\n",
        "    return new_review\n",
        " new_review = new_review(str(input(\"Enter new review...\")))"
      ]
    },
    {
      "cell_type": "code",
      "source": [
        " from sklearn.metrics import confusion_matrix,accuracy_score\n",
        " cm=confusion_matrix(y_test,y_pr)\n",
        " score = accuracy_score(y_test,y_pr)\n",
        " print(cm)\n",
        " print('Accuracy Score Is Naive Bayes:- ' ,score*100)"
      ],
      "metadata": {
        "colab": {
          "base_uri": "https://localhost:8080/"
        },
        "id": "o7-eyYlrMYxb",
        "outputId": "e1c09825-0580-499c-a484-92d67f0120a1"
      },
      "execution_count": 43,
      "outputs": [
        {
          "output_type": "stream",
          "name": "stdout",
          "text": [
            "[[933  16]\n",
            " [ 14 152]]\n",
            "Accuracy Score Is Naive Bayes:-  97.30941704035875\n"
          ]
        }
      ]
    },
    {
      "cell_type": "code",
      "source": [
        "model.save('spam.h5')"
      ],
      "metadata": {
        "id": "OSi28-GbPFym"
      },
      "execution_count": 44,
      "outputs": []
    },
    {
      "cell_type": "code",
      "source": [
        "!pip install nbconvert"
      ],
      "metadata": {
        "colab": {
          "base_uri": "https://localhost:8080/"
        },
        "id": "7Ymto-Sy9lQR",
        "outputId": "17933f61-616b-48c2-e4ad-e52b73180236"
      },
      "execution_count": 45,
      "outputs": [
        {
          "output_type": "stream",
          "name": "stdout",
          "text": [
            "Looking in indexes: https://pypi.org/simple, https://us-python.pkg.dev/colab-wheels/public/simple/\n",
            "Requirement already satisfied: nbconvert in /usr/local/lib/python3.9/dist-packages (6.5.4)\n",
            "Requirement already satisfied: entrypoints>=0.2.2 in /usr/local/lib/python3.9/dist-packages (from nbconvert) (0.4)\n",
            "Requirement already satisfied: tinycss2 in /usr/local/lib/python3.9/dist-packages (from nbconvert) (1.2.1)\n",
            "Requirement already satisfied: bleach in /usr/local/lib/python3.9/dist-packages (from nbconvert) (6.0.0)\n",
            "Requirement already satisfied: jupyter-core>=4.7 in /usr/local/lib/python3.9/dist-packages (from nbconvert) (5.3.0)\n",
            "Requirement already satisfied: pygments>=2.4.1 in /usr/local/lib/python3.9/dist-packages (from nbconvert) (2.14.0)\n",
            "Requirement already satisfied: lxml in /usr/local/lib/python3.9/dist-packages (from nbconvert) (4.9.2)\n",
            "Requirement already satisfied: traitlets>=5.0 in /usr/local/lib/python3.9/dist-packages (from nbconvert) (5.7.1)\n",
            "Requirement already satisfied: packaging in /usr/local/lib/python3.9/dist-packages (from nbconvert) (23.0)\n",
            "Requirement already satisfied: jinja2>=3.0 in /usr/local/lib/python3.9/dist-packages (from nbconvert) (3.1.2)\n",
            "Requirement already satisfied: MarkupSafe>=2.0 in /usr/local/lib/python3.9/dist-packages (from nbconvert) (2.1.2)\n",
            "Requirement already satisfied: jupyterlab-pygments in /usr/local/lib/python3.9/dist-packages (from nbconvert) (0.2.2)\n",
            "Requirement already satisfied: beautifulsoup4 in /usr/local/lib/python3.9/dist-packages (from nbconvert) (4.11.2)\n",
            "Requirement already satisfied: nbformat>=5.1 in /usr/local/lib/python3.9/dist-packages (from nbconvert) (5.8.0)\n",
            "Requirement already satisfied: nbclient>=0.5.0 in /usr/local/lib/python3.9/dist-packages (from nbconvert) (0.7.3)\n",
            "Requirement already satisfied: mistune<2,>=0.8.1 in /usr/local/lib/python3.9/dist-packages (from nbconvert) (0.8.4)\n",
            "Requirement already satisfied: pandocfilters>=1.4.1 in /usr/local/lib/python3.9/dist-packages (from nbconvert) (1.5.0)\n",
            "Requirement already satisfied: defusedxml in /usr/local/lib/python3.9/dist-packages (from nbconvert) (0.7.1)\n",
            "Requirement already satisfied: platformdirs>=2.5 in /usr/local/lib/python3.9/dist-packages (from jupyter-core>=4.7->nbconvert) (3.2.0)\n",
            "Requirement already satisfied: jupyter-client>=6.1.12 in /usr/local/lib/python3.9/dist-packages (from nbclient>=0.5.0->nbconvert) (6.1.12)\n",
            "Requirement already satisfied: jsonschema>=2.6 in /usr/local/lib/python3.9/dist-packages (from nbformat>=5.1->nbconvert) (4.3.3)\n",
            "Requirement already satisfied: fastjsonschema in /usr/local/lib/python3.9/dist-packages (from nbformat>=5.1->nbconvert) (2.16.3)\n",
            "Requirement already satisfied: soupsieve>1.2 in /usr/local/lib/python3.9/dist-packages (from beautifulsoup4->nbconvert) (2.4)\n",
            "Requirement already satisfied: webencodings in /usr/local/lib/python3.9/dist-packages (from bleach->nbconvert) (0.5.1)\n",
            "Requirement already satisfied: six>=1.9.0 in /usr/local/lib/python3.9/dist-packages (from bleach->nbconvert) (1.16.0)\n",
            "Requirement already satisfied: attrs>=17.4.0 in /usr/local/lib/python3.9/dist-packages (from jsonschema>=2.6->nbformat>=5.1->nbconvert) (22.2.0)\n",
            "Requirement already satisfied: pyrsistent!=0.17.0,!=0.17.1,!=0.17.2,>=0.14.0 in /usr/local/lib/python3.9/dist-packages (from jsonschema>=2.6->nbformat>=5.1->nbconvert) (0.19.3)\n",
            "Requirement already satisfied: python-dateutil>=2.1 in /usr/local/lib/python3.9/dist-packages (from jupyter-client>=6.1.12->nbclient>=0.5.0->nbconvert) (2.8.2)\n",
            "Requirement already satisfied: tornado>=4.1 in /usr/local/lib/python3.9/dist-packages (from jupyter-client>=6.1.12->nbclient>=0.5.0->nbconvert) (6.2)\n",
            "Requirement already satisfied: pyzmq>=13 in /usr/local/lib/python3.9/dist-packages (from jupyter-client>=6.1.12->nbclient>=0.5.0->nbconvert) (23.2.1)\n"
          ]
        }
      ]
    },
    {
      "cell_type": "code",
      "source": [
        "jupyter nbconvert --to html notebook.ipynb"
      ],
      "metadata": {
        "id": "iyTA-gOa96YY"
      },
      "execution_count": null,
      "outputs": []
    }
  ],
  "metadata": {
    "colab": {
      "provenance": []
    },
    "kernelspec": {
      "display_name": "Python 3",
      "name": "python3"
    },
    "language_info": {
      "name": "python"
    }
  },
  "nbformat": 4,
  "nbformat_minor": 0
}